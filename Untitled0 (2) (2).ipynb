{
  "nbformat": 4,
  "nbformat_minor": 0,
  "metadata": {
    "colab": {
      "provenance": []
    },
    "kernelspec": {
      "name": "python3",
      "display_name": "Python 3"
    },
    "language_info": {
      "name": "python"
    }
  },
  "cells": [
    {
      "cell_type": "code",
      "source": [
        "import numpy as np\n",
        "import pandas as pd \n",
        "import matplotlib.pyplot as plt\n",
        "import tensorflow as tf\n",
        "import seaborn as sns\n",
        "import sklearn\n",
        "from sklearn.preprocessing import StandardScaler\n",
        "from tensorflow import keras\n",
        "from tensorflow.keras import layers"
      ],
      "metadata": {
        "id": "lYhWm37cVDbz"
      },
      "execution_count": null,
      "outputs": []
    },
    {
      "cell_type": "code",
      "source": [
        "df=pd.read_csv('diabetes.csv')\n",
        "df"
      ],
      "metadata": {
        "colab": {
          "base_uri": "https://localhost:8080/",
          "height": 424
        },
        "id": "LlYqMgVYVDrA",
        "outputId": "e826f283-4434-4631-b152-330fd7b27d56"
      },
      "execution_count": null,
      "outputs": [
        {
          "output_type": "execute_result",
          "data": {
            "text/plain": [
              "     Pregnancies  Glucose  BloodPressure  SkinThickness  Insulin   BMI  \\\n",
              "0              6      148             72             35        0  33.6   \n",
              "1              1       85             66             29        0  26.6   \n",
              "2              8      183             64              0        0  23.3   \n",
              "3              1       89             66             23       94  28.1   \n",
              "4              0      137             40             35      168  43.1   \n",
              "..           ...      ...            ...            ...      ...   ...   \n",
              "763           10      101             76             48      180  32.9   \n",
              "764            2      122             70             27        0  36.8   \n",
              "765            5      121             72             23      112  26.2   \n",
              "766            1      126             60              0        0  30.1   \n",
              "767            1       93             70             31        0  30.4   \n",
              "\n",
              "     DiabetesPedigreeFunction  Age  Outcome  \n",
              "0                       0.627   50        1  \n",
              "1                       0.351   31        0  \n",
              "2                       0.672   32        1  \n",
              "3                       0.167   21        0  \n",
              "4                       2.288   33        1  \n",
              "..                        ...  ...      ...  \n",
              "763                     0.171   63        0  \n",
              "764                     0.340   27        0  \n",
              "765                     0.245   30        0  \n",
              "766                     0.349   47        1  \n",
              "767                     0.315   23        0  \n",
              "\n",
              "[768 rows x 9 columns]"
            ],
            "text/html": [
              "\n",
              "  <div id=\"df-a8bd512c-7e82-4e4c-9948-13156ebffbc2\">\n",
              "    <div class=\"colab-df-container\">\n",
              "      <div>\n",
              "<style scoped>\n",
              "    .dataframe tbody tr th:only-of-type {\n",
              "        vertical-align: middle;\n",
              "    }\n",
              "\n",
              "    .dataframe tbody tr th {\n",
              "        vertical-align: top;\n",
              "    }\n",
              "\n",
              "    .dataframe thead th {\n",
              "        text-align: right;\n",
              "    }\n",
              "</style>\n",
              "<table border=\"1\" class=\"dataframe\">\n",
              "  <thead>\n",
              "    <tr style=\"text-align: right;\">\n",
              "      <th></th>\n",
              "      <th>Pregnancies</th>\n",
              "      <th>Glucose</th>\n",
              "      <th>BloodPressure</th>\n",
              "      <th>SkinThickness</th>\n",
              "      <th>Insulin</th>\n",
              "      <th>BMI</th>\n",
              "      <th>DiabetesPedigreeFunction</th>\n",
              "      <th>Age</th>\n",
              "      <th>Outcome</th>\n",
              "    </tr>\n",
              "  </thead>\n",
              "  <tbody>\n",
              "    <tr>\n",
              "      <th>0</th>\n",
              "      <td>6</td>\n",
              "      <td>148</td>\n",
              "      <td>72</td>\n",
              "      <td>35</td>\n",
              "      <td>0</td>\n",
              "      <td>33.6</td>\n",
              "      <td>0.627</td>\n",
              "      <td>50</td>\n",
              "      <td>1</td>\n",
              "    </tr>\n",
              "    <tr>\n",
              "      <th>1</th>\n",
              "      <td>1</td>\n",
              "      <td>85</td>\n",
              "      <td>66</td>\n",
              "      <td>29</td>\n",
              "      <td>0</td>\n",
              "      <td>26.6</td>\n",
              "      <td>0.351</td>\n",
              "      <td>31</td>\n",
              "      <td>0</td>\n",
              "    </tr>\n",
              "    <tr>\n",
              "      <th>2</th>\n",
              "      <td>8</td>\n",
              "      <td>183</td>\n",
              "      <td>64</td>\n",
              "      <td>0</td>\n",
              "      <td>0</td>\n",
              "      <td>23.3</td>\n",
              "      <td>0.672</td>\n",
              "      <td>32</td>\n",
              "      <td>1</td>\n",
              "    </tr>\n",
              "    <tr>\n",
              "      <th>3</th>\n",
              "      <td>1</td>\n",
              "      <td>89</td>\n",
              "      <td>66</td>\n",
              "      <td>23</td>\n",
              "      <td>94</td>\n",
              "      <td>28.1</td>\n",
              "      <td>0.167</td>\n",
              "      <td>21</td>\n",
              "      <td>0</td>\n",
              "    </tr>\n",
              "    <tr>\n",
              "      <th>4</th>\n",
              "      <td>0</td>\n",
              "      <td>137</td>\n",
              "      <td>40</td>\n",
              "      <td>35</td>\n",
              "      <td>168</td>\n",
              "      <td>43.1</td>\n",
              "      <td>2.288</td>\n",
              "      <td>33</td>\n",
              "      <td>1</td>\n",
              "    </tr>\n",
              "    <tr>\n",
              "      <th>...</th>\n",
              "      <td>...</td>\n",
              "      <td>...</td>\n",
              "      <td>...</td>\n",
              "      <td>...</td>\n",
              "      <td>...</td>\n",
              "      <td>...</td>\n",
              "      <td>...</td>\n",
              "      <td>...</td>\n",
              "      <td>...</td>\n",
              "    </tr>\n",
              "    <tr>\n",
              "      <th>763</th>\n",
              "      <td>10</td>\n",
              "      <td>101</td>\n",
              "      <td>76</td>\n",
              "      <td>48</td>\n",
              "      <td>180</td>\n",
              "      <td>32.9</td>\n",
              "      <td>0.171</td>\n",
              "      <td>63</td>\n",
              "      <td>0</td>\n",
              "    </tr>\n",
              "    <tr>\n",
              "      <th>764</th>\n",
              "      <td>2</td>\n",
              "      <td>122</td>\n",
              "      <td>70</td>\n",
              "      <td>27</td>\n",
              "      <td>0</td>\n",
              "      <td>36.8</td>\n",
              "      <td>0.340</td>\n",
              "      <td>27</td>\n",
              "      <td>0</td>\n",
              "    </tr>\n",
              "    <tr>\n",
              "      <th>765</th>\n",
              "      <td>5</td>\n",
              "      <td>121</td>\n",
              "      <td>72</td>\n",
              "      <td>23</td>\n",
              "      <td>112</td>\n",
              "      <td>26.2</td>\n",
              "      <td>0.245</td>\n",
              "      <td>30</td>\n",
              "      <td>0</td>\n",
              "    </tr>\n",
              "    <tr>\n",
              "      <th>766</th>\n",
              "      <td>1</td>\n",
              "      <td>126</td>\n",
              "      <td>60</td>\n",
              "      <td>0</td>\n",
              "      <td>0</td>\n",
              "      <td>30.1</td>\n",
              "      <td>0.349</td>\n",
              "      <td>47</td>\n",
              "      <td>1</td>\n",
              "    </tr>\n",
              "    <tr>\n",
              "      <th>767</th>\n",
              "      <td>1</td>\n",
              "      <td>93</td>\n",
              "      <td>70</td>\n",
              "      <td>31</td>\n",
              "      <td>0</td>\n",
              "      <td>30.4</td>\n",
              "      <td>0.315</td>\n",
              "      <td>23</td>\n",
              "      <td>0</td>\n",
              "    </tr>\n",
              "  </tbody>\n",
              "</table>\n",
              "<p>768 rows × 9 columns</p>\n",
              "</div>\n",
              "      <button class=\"colab-df-convert\" onclick=\"convertToInteractive('df-a8bd512c-7e82-4e4c-9948-13156ebffbc2')\"\n",
              "              title=\"Convert this dataframe to an interactive table.\"\n",
              "              style=\"display:none;\">\n",
              "        \n",
              "  <svg xmlns=\"http://www.w3.org/2000/svg\" height=\"24px\"viewBox=\"0 0 24 24\"\n",
              "       width=\"24px\">\n",
              "    <path d=\"M0 0h24v24H0V0z\" fill=\"none\"/>\n",
              "    <path d=\"M18.56 5.44l.94 2.06.94-2.06 2.06-.94-2.06-.94-.94-2.06-.94 2.06-2.06.94zm-11 1L8.5 8.5l.94-2.06 2.06-.94-2.06-.94L8.5 2.5l-.94 2.06-2.06.94zm10 10l.94 2.06.94-2.06 2.06-.94-2.06-.94-.94-2.06-.94 2.06-2.06.94z\"/><path d=\"M17.41 7.96l-1.37-1.37c-.4-.4-.92-.59-1.43-.59-.52 0-1.04.2-1.43.59L10.3 9.45l-7.72 7.72c-.78.78-.78 2.05 0 2.83L4 21.41c.39.39.9.59 1.41.59.51 0 1.02-.2 1.41-.59l7.78-7.78 2.81-2.81c.8-.78.8-2.07 0-2.86zM5.41 20L4 18.59l7.72-7.72 1.47 1.35L5.41 20z\"/>\n",
              "  </svg>\n",
              "      </button>\n",
              "      \n",
              "  <style>\n",
              "    .colab-df-container {\n",
              "      display:flex;\n",
              "      flex-wrap:wrap;\n",
              "      gap: 12px;\n",
              "    }\n",
              "\n",
              "    .colab-df-convert {\n",
              "      background-color: #E8F0FE;\n",
              "      border: none;\n",
              "      border-radius: 50%;\n",
              "      cursor: pointer;\n",
              "      display: none;\n",
              "      fill: #1967D2;\n",
              "      height: 32px;\n",
              "      padding: 0 0 0 0;\n",
              "      width: 32px;\n",
              "    }\n",
              "\n",
              "    .colab-df-convert:hover {\n",
              "      background-color: #E2EBFA;\n",
              "      box-shadow: 0px 1px 2px rgba(60, 64, 67, 0.3), 0px 1px 3px 1px rgba(60, 64, 67, 0.15);\n",
              "      fill: #174EA6;\n",
              "    }\n",
              "\n",
              "    [theme=dark] .colab-df-convert {\n",
              "      background-color: #3B4455;\n",
              "      fill: #D2E3FC;\n",
              "    }\n",
              "\n",
              "    [theme=dark] .colab-df-convert:hover {\n",
              "      background-color: #434B5C;\n",
              "      box-shadow: 0px 1px 3px 1px rgba(0, 0, 0, 0.15);\n",
              "      filter: drop-shadow(0px 1px 2px rgba(0, 0, 0, 0.3));\n",
              "      fill: #FFFFFF;\n",
              "    }\n",
              "  </style>\n",
              "\n",
              "      <script>\n",
              "        const buttonEl =\n",
              "          document.querySelector('#df-a8bd512c-7e82-4e4c-9948-13156ebffbc2 button.colab-df-convert');\n",
              "        buttonEl.style.display =\n",
              "          google.colab.kernel.accessAllowed ? 'block' : 'none';\n",
              "\n",
              "        async function convertToInteractive(key) {\n",
              "          const element = document.querySelector('#df-a8bd512c-7e82-4e4c-9948-13156ebffbc2');\n",
              "          const dataTable =\n",
              "            await google.colab.kernel.invokeFunction('convertToInteractive',\n",
              "                                                     [key], {});\n",
              "          if (!dataTable) return;\n",
              "\n",
              "          const docLinkHtml = 'Like what you see? Visit the ' +\n",
              "            '<a target=\"_blank\" href=https://colab.research.google.com/notebooks/data_table.ipynb>data table notebook</a>'\n",
              "            + ' to learn more about interactive tables.';\n",
              "          element.innerHTML = '';\n",
              "          dataTable['output_type'] = 'display_data';\n",
              "          await google.colab.output.renderOutput(dataTable, element);\n",
              "          const docLink = document.createElement('div');\n",
              "          docLink.innerHTML = docLinkHtml;\n",
              "          element.appendChild(docLink);\n",
              "        }\n",
              "      </script>\n",
              "    </div>\n",
              "  </div>\n",
              "  "
            ]
          },
          "metadata": {},
          "execution_count": 4
        }
      ]
    },
    {
      "cell_type": "code",
      "source": [
        "df.describe()"
      ],
      "metadata": {
        "colab": {
          "base_uri": "https://localhost:8080/",
          "height": 364
        },
        "id": "EW6jEwI3wwhM",
        "outputId": "44878897-53b5-44ab-eef0-a41b03345dc7"
      },
      "execution_count": null,
      "outputs": [
        {
          "output_type": "execute_result",
          "data": {
            "text/plain": [
              "       Pregnancies     Glucose  BloodPressure  SkinThickness     Insulin  \\\n",
              "count   768.000000  768.000000     768.000000     768.000000  768.000000   \n",
              "mean      3.845052  120.894531      69.105469      20.536458   79.799479   \n",
              "std       3.369578   31.972618      19.355807      15.952218  115.244002   \n",
              "min       0.000000    0.000000       0.000000       0.000000    0.000000   \n",
              "25%       1.000000   99.000000      62.000000       0.000000    0.000000   \n",
              "50%       3.000000  117.000000      72.000000      23.000000   30.500000   \n",
              "75%       6.000000  140.250000      80.000000      32.000000  127.250000   \n",
              "max      17.000000  199.000000     122.000000      99.000000  846.000000   \n",
              "\n",
              "              BMI  DiabetesPedigreeFunction         Age     Outcome  \n",
              "count  768.000000                768.000000  768.000000  768.000000  \n",
              "mean    31.992578                  0.471876   33.240885    0.348958  \n",
              "std      7.884160                  0.331329   11.760232    0.476951  \n",
              "min      0.000000                  0.078000   21.000000    0.000000  \n",
              "25%     27.300000                  0.243750   24.000000    0.000000  \n",
              "50%     32.000000                  0.372500   29.000000    0.000000  \n",
              "75%     36.600000                  0.626250   41.000000    1.000000  \n",
              "max     67.100000                  2.420000   81.000000    1.000000  "
            ],
            "text/html": [
              "\n",
              "  <div id=\"df-8298f81f-743a-4912-929b-a9d4a2b4e10f\">\n",
              "    <div class=\"colab-df-container\">\n",
              "      <div>\n",
              "<style scoped>\n",
              "    .dataframe tbody tr th:only-of-type {\n",
              "        vertical-align: middle;\n",
              "    }\n",
              "\n",
              "    .dataframe tbody tr th {\n",
              "        vertical-align: top;\n",
              "    }\n",
              "\n",
              "    .dataframe thead th {\n",
              "        text-align: right;\n",
              "    }\n",
              "</style>\n",
              "<table border=\"1\" class=\"dataframe\">\n",
              "  <thead>\n",
              "    <tr style=\"text-align: right;\">\n",
              "      <th></th>\n",
              "      <th>Pregnancies</th>\n",
              "      <th>Glucose</th>\n",
              "      <th>BloodPressure</th>\n",
              "      <th>SkinThickness</th>\n",
              "      <th>Insulin</th>\n",
              "      <th>BMI</th>\n",
              "      <th>DiabetesPedigreeFunction</th>\n",
              "      <th>Age</th>\n",
              "      <th>Outcome</th>\n",
              "    </tr>\n",
              "  </thead>\n",
              "  <tbody>\n",
              "    <tr>\n",
              "      <th>count</th>\n",
              "      <td>768.000000</td>\n",
              "      <td>768.000000</td>\n",
              "      <td>768.000000</td>\n",
              "      <td>768.000000</td>\n",
              "      <td>768.000000</td>\n",
              "      <td>768.000000</td>\n",
              "      <td>768.000000</td>\n",
              "      <td>768.000000</td>\n",
              "      <td>768.000000</td>\n",
              "    </tr>\n",
              "    <tr>\n",
              "      <th>mean</th>\n",
              "      <td>3.845052</td>\n",
              "      <td>120.894531</td>\n",
              "      <td>69.105469</td>\n",
              "      <td>20.536458</td>\n",
              "      <td>79.799479</td>\n",
              "      <td>31.992578</td>\n",
              "      <td>0.471876</td>\n",
              "      <td>33.240885</td>\n",
              "      <td>0.348958</td>\n",
              "    </tr>\n",
              "    <tr>\n",
              "      <th>std</th>\n",
              "      <td>3.369578</td>\n",
              "      <td>31.972618</td>\n",
              "      <td>19.355807</td>\n",
              "      <td>15.952218</td>\n",
              "      <td>115.244002</td>\n",
              "      <td>7.884160</td>\n",
              "      <td>0.331329</td>\n",
              "      <td>11.760232</td>\n",
              "      <td>0.476951</td>\n",
              "    </tr>\n",
              "    <tr>\n",
              "      <th>min</th>\n",
              "      <td>0.000000</td>\n",
              "      <td>0.000000</td>\n",
              "      <td>0.000000</td>\n",
              "      <td>0.000000</td>\n",
              "      <td>0.000000</td>\n",
              "      <td>0.000000</td>\n",
              "      <td>0.078000</td>\n",
              "      <td>21.000000</td>\n",
              "      <td>0.000000</td>\n",
              "    </tr>\n",
              "    <tr>\n",
              "      <th>25%</th>\n",
              "      <td>1.000000</td>\n",
              "      <td>99.000000</td>\n",
              "      <td>62.000000</td>\n",
              "      <td>0.000000</td>\n",
              "      <td>0.000000</td>\n",
              "      <td>27.300000</td>\n",
              "      <td>0.243750</td>\n",
              "      <td>24.000000</td>\n",
              "      <td>0.000000</td>\n",
              "    </tr>\n",
              "    <tr>\n",
              "      <th>50%</th>\n",
              "      <td>3.000000</td>\n",
              "      <td>117.000000</td>\n",
              "      <td>72.000000</td>\n",
              "      <td>23.000000</td>\n",
              "      <td>30.500000</td>\n",
              "      <td>32.000000</td>\n",
              "      <td>0.372500</td>\n",
              "      <td>29.000000</td>\n",
              "      <td>0.000000</td>\n",
              "    </tr>\n",
              "    <tr>\n",
              "      <th>75%</th>\n",
              "      <td>6.000000</td>\n",
              "      <td>140.250000</td>\n",
              "      <td>80.000000</td>\n",
              "      <td>32.000000</td>\n",
              "      <td>127.250000</td>\n",
              "      <td>36.600000</td>\n",
              "      <td>0.626250</td>\n",
              "      <td>41.000000</td>\n",
              "      <td>1.000000</td>\n",
              "    </tr>\n",
              "    <tr>\n",
              "      <th>max</th>\n",
              "      <td>17.000000</td>\n",
              "      <td>199.000000</td>\n",
              "      <td>122.000000</td>\n",
              "      <td>99.000000</td>\n",
              "      <td>846.000000</td>\n",
              "      <td>67.100000</td>\n",
              "      <td>2.420000</td>\n",
              "      <td>81.000000</td>\n",
              "      <td>1.000000</td>\n",
              "    </tr>\n",
              "  </tbody>\n",
              "</table>\n",
              "</div>\n",
              "      <button class=\"colab-df-convert\" onclick=\"convertToInteractive('df-8298f81f-743a-4912-929b-a9d4a2b4e10f')\"\n",
              "              title=\"Convert this dataframe to an interactive table.\"\n",
              "              style=\"display:none;\">\n",
              "        \n",
              "  <svg xmlns=\"http://www.w3.org/2000/svg\" height=\"24px\"viewBox=\"0 0 24 24\"\n",
              "       width=\"24px\">\n",
              "    <path d=\"M0 0h24v24H0V0z\" fill=\"none\"/>\n",
              "    <path d=\"M18.56 5.44l.94 2.06.94-2.06 2.06-.94-2.06-.94-.94-2.06-.94 2.06-2.06.94zm-11 1L8.5 8.5l.94-2.06 2.06-.94-2.06-.94L8.5 2.5l-.94 2.06-2.06.94zm10 10l.94 2.06.94-2.06 2.06-.94-2.06-.94-.94-2.06-.94 2.06-2.06.94z\"/><path d=\"M17.41 7.96l-1.37-1.37c-.4-.4-.92-.59-1.43-.59-.52 0-1.04.2-1.43.59L10.3 9.45l-7.72 7.72c-.78.78-.78 2.05 0 2.83L4 21.41c.39.39.9.59 1.41.59.51 0 1.02-.2 1.41-.59l7.78-7.78 2.81-2.81c.8-.78.8-2.07 0-2.86zM5.41 20L4 18.59l7.72-7.72 1.47 1.35L5.41 20z\"/>\n",
              "  </svg>\n",
              "      </button>\n",
              "      \n",
              "  <style>\n",
              "    .colab-df-container {\n",
              "      display:flex;\n",
              "      flex-wrap:wrap;\n",
              "      gap: 12px;\n",
              "    }\n",
              "\n",
              "    .colab-df-convert {\n",
              "      background-color: #E8F0FE;\n",
              "      border: none;\n",
              "      border-radius: 50%;\n",
              "      cursor: pointer;\n",
              "      display: none;\n",
              "      fill: #1967D2;\n",
              "      height: 32px;\n",
              "      padding: 0 0 0 0;\n",
              "      width: 32px;\n",
              "    }\n",
              "\n",
              "    .colab-df-convert:hover {\n",
              "      background-color: #E2EBFA;\n",
              "      box-shadow: 0px 1px 2px rgba(60, 64, 67, 0.3), 0px 1px 3px 1px rgba(60, 64, 67, 0.15);\n",
              "      fill: #174EA6;\n",
              "    }\n",
              "\n",
              "    [theme=dark] .colab-df-convert {\n",
              "      background-color: #3B4455;\n",
              "      fill: #D2E3FC;\n",
              "    }\n",
              "\n",
              "    [theme=dark] .colab-df-convert:hover {\n",
              "      background-color: #434B5C;\n",
              "      box-shadow: 0px 1px 3px 1px rgba(0, 0, 0, 0.15);\n",
              "      filter: drop-shadow(0px 1px 2px rgba(0, 0, 0, 0.3));\n",
              "      fill: #FFFFFF;\n",
              "    }\n",
              "  </style>\n",
              "\n",
              "      <script>\n",
              "        const buttonEl =\n",
              "          document.querySelector('#df-8298f81f-743a-4912-929b-a9d4a2b4e10f button.colab-df-convert');\n",
              "        buttonEl.style.display =\n",
              "          google.colab.kernel.accessAllowed ? 'block' : 'none';\n",
              "\n",
              "        async function convertToInteractive(key) {\n",
              "          const element = document.querySelector('#df-8298f81f-743a-4912-929b-a9d4a2b4e10f');\n",
              "          const dataTable =\n",
              "            await google.colab.kernel.invokeFunction('convertToInteractive',\n",
              "                                                     [key], {});\n",
              "          if (!dataTable) return;\n",
              "\n",
              "          const docLinkHtml = 'Like what you see? Visit the ' +\n",
              "            '<a target=\"_blank\" href=https://colab.research.google.com/notebooks/data_table.ipynb>data table notebook</a>'\n",
              "            + ' to learn more about interactive tables.';\n",
              "          element.innerHTML = '';\n",
              "          dataTable['output_type'] = 'display_data';\n",
              "          await google.colab.output.renderOutput(dataTable, element);\n",
              "          const docLink = document.createElement('div');\n",
              "          docLink.innerHTML = docLinkHtml;\n",
              "          element.appendChild(docLink);\n",
              "        }\n",
              "      </script>\n",
              "    </div>\n",
              "  </div>\n",
              "  "
            ]
          },
          "metadata": {},
          "execution_count": 5
        }
      ]
    },
    {
      "cell_type": "code",
      "source": [
        "sns.countplot(x=\"Outcome\",data=df)\n",
        "print('number of outcome for each 0 and 1 are:\\n',\n",
        "      df['Outcome'].value_counts())"
      ],
      "metadata": {
        "colab": {
          "base_uri": "https://localhost:8080/",
          "height": 348
        },
        "id": "zs4o07FBDtvU",
        "outputId": "067a6933-9343-4017-85db-bf99551b4b5f"
      },
      "execution_count": null,
      "outputs": [
        {
          "output_type": "stream",
          "name": "stdout",
          "text": [
            "number of outcome for each 0 and 1 are:\n",
            " 0    500\n",
            "1    268\n",
            "Name: Outcome, dtype: int64\n"
          ]
        },
        {
          "output_type": "display_data",
          "data": {
            "text/plain": [
              "<Figure size 432x288 with 1 Axes>"
            ],
            "image/png": "[encoded data removed]"
          },
          "metadata": {
            "needs_background": "light"
          }
        }
      ]
    },
    {
      "cell_type": "code",
      "source": [
        "n_by_Pregnancies = df.groupby(['Pregnancies'])[\"Outcome\"].count()\n",
        "print(n_by_Pregnancies)\n",
        "#most of the rows are 1 Pregnancies"
      ],
      "metadata": {
        "colab": {
          "base_uri": "https://localhost:8080/"
        },
        "id": "bPP3xyp9HMGO",
        "outputId": "1a663812-2772-43ea-cff3-36b635b423de"
      },
      "execution_count": null,
      "outputs": [
        {
          "output_type": "stream",
          "name": "stdout",
          "text": [
            "Pregnancies\n",
            "0     111\n",
            "1     135\n",
            "2     103\n",
            "3      75\n",
            "4      68\n",
            "5      57\n",
            "6      50\n",
            "7      45\n",
            "8      38\n",
            "9      28\n",
            "10     24\n",
            "11     11\n",
            "12      9\n",
            "13     10\n",
            "14      2\n",
            "15      1\n",
            "17      1\n",
            "Name: Outcome, dtype: int64\n"
          ]
        }
      ]
    },
    {
      "cell_type": "code",
      "source": [
        "sns.displot(df,x=\"Glucose\",kind=\"kde\")"
      ],
      "metadata": {
        "colab": {
          "base_uri": "https://localhost:8080/",
          "height": 386
        },
        "id": "rYTXQzWPJITB",
        "outputId": "5b74e6cc-3759-4212-bc77-ec80b8326a8d"
      },
      "execution_count": null,
      "outputs": [
        {
          "output_type": "execute_result",
          "data": {
            "text/plain": [
              "<seaborn.axisgrid.FacetGrid at 0x7fbaa15fa700>"
            ]
          },
          "metadata": {},
          "execution_count": 10
        },
        {
          "output_type": "display_data",
          "data": {
            "text/plain": [
              "<Figure size 360x360 with 1 Axes>"
            ],
            "image/png": "[encoded data removed]"
          },
          "metadata": {
            "needs_background": "light"
          }
        }
      ]
    },
    {
      "cell_type": "code",
      "source": [
        "df[\"Glucose\"].agg(['skew','kurtosis']).transpose()\n",
        "#distrubtion was skewed to the right"
      ],
      "metadata": {
        "colab": {
          "base_uri": "https://localhost:8080/"
        },
        "id": "KIORqbRL43bO",
        "outputId": "00fd9e63-bda4-4108-d9c6-42c032f65400"
      },
      "execution_count": null,
      "outputs": [
        {
          "output_type": "execute_result",
          "data": {
            "text/plain": [
              "skew        0.173754\n",
              "kurtosis    0.640780\n",
              "Name: Glucose, dtype: float64"
            ]
          },
          "metadata": {},
          "execution_count": 11
        }
      ]
    },
    {
      "cell_type": "code",
      "source": [
        "sns.displot(df,x=\"BloodPressure\",kind=\"kde\")"
      ],
      "metadata": {
        "colab": {
          "base_uri": "https://localhost:8080/",
          "height": 386
        },
        "id": "x951_FbHxzHW",
        "outputId": "ef000b4e-35b8-4ea0-a6fd-2a5c29d30429"
      },
      "execution_count": null,
      "outputs": [
        {
          "output_type": "execute_result",
          "data": {
            "text/plain": [
              "<seaborn.axisgrid.FacetGrid at 0x7f0d5be13520>"
            ]
          },
          "metadata": {},
          "execution_count": 61
        },
        {
          "output_type": "display_data",
          "data": {
            "text/plain": [
              "<Figure size 360x360 with 1 Axes>"
            ],
            "image/png": "[encoded data removed]"
          },
          "metadata": {
            "needs_background": "light"
          }
        }
      ]
    },
    {
      "cell_type": "code",
      "source": [
        "df[\"BloodPressure\"].agg(['skew','kurtosis']).transpose()\n",
        "#distrubtion was skewed to the left "
      ],
      "metadata": {
        "colab": {
          "base_uri": "https://localhost:8080/"
        },
        "id": "GWiMVx8w7XyY",
        "outputId": "f7d674cc-5966-477a-bc70-525a2f7ed3fc"
      },
      "execution_count": null,
      "outputs": [
        {
          "output_type": "execute_result",
          "data": {
            "text/plain": [
              "skew       -1.843608\n",
              "kurtosis    5.180157\n",
              "Name: BloodPressure, dtype: float64"
            ]
          },
          "metadata": {},
          "execution_count": 68
        }
      ]
    },
    {
      "cell_type": "code",
      "source": [
        "sns.displot(df,x=\"SkinThickness\",kind=\"kde\")"
      ],
      "metadata": {
        "colab": {
          "base_uri": "https://localhost:8080/",
          "height": 386
        },
        "id": "Rp0ofu1srezl",
        "outputId": "b83f7c88-67ae-4c97-f847-1100d9e2a94c"
      },
      "execution_count": null,
      "outputs": [
        {
          "output_type": "execute_result",
          "data": {
            "text/plain": [
              "<seaborn.axisgrid.FacetGrid at 0x7f0d56cb87f0>"
            ]
          },
          "metadata": {},
          "execution_count": 62
        },
        {
          "output_type": "display_data",
          "data": {
            "text/plain": [
              "<Figure size 360x360 with 1 Axes>"
            ],
            "image/png": "[encoded data removed]"
          },
          "metadata": {
            "needs_background": "light"
          }
        }
      ]
    },
    {
      "cell_type": "code",
      "source": [
        "sns.displot(df,x=\"Insulin\",kind=\"kde\")"
      ],
      "metadata": {
        "colab": {
          "base_uri": "https://localhost:8080/",
          "height": 386
        },
        "id": "EvSmX8jRyiLJ",
        "outputId": "55388252-8157-4545-cd9b-231615ba30c9"
      },
      "execution_count": null,
      "outputs": [
        {
          "output_type": "execute_result",
          "data": {
            "text/plain": [
              "<seaborn.axisgrid.FacetGrid at 0x7f0d560ed460>"
            ]
          },
          "metadata": {},
          "execution_count": 63
        },
        {
          "output_type": "display_data",
          "data": {
            "text/plain": [
              "<Figure size 360x360 with 1 Axes>"
            ],
            "image/png": "[encoded data removed]"
          },
          "metadata": {
            "needs_background": "light"
          }
        }
      ]
    },
    {
      "cell_type": "code",
      "source": [
        "#measure its skewness and kurtosis\n",
        "df[\"Insulin\"].agg(['skew','kurtosis']).transpose()"
      ],
      "metadata": {
        "colab": {
          "base_uri": "https://localhost:8080/"
        },
        "id": "LavaPlFm0Dg9",
        "outputId": "86a46a08-f784-405a-d0b7-36bc7e66b5d0"
      },
      "execution_count": null,
      "outputs": [
        {
          "output_type": "execute_result",
          "data": {
            "text/plain": [
              "skew        2.272251\n",
              "kurtosis    7.214260\n",
              "Name: Insulin, dtype: float64"
            ]
          },
          "metadata": {},
          "execution_count": 18
        }
      ]
    },
    {
      "cell_type": "code",
      "source": [
        "sns.displot(df,x=\"BMI\",kind=\"kde\")"
      ],
      "metadata": {
        "colab": {
          "base_uri": "https://localhost:8080/",
          "height": 386
        },
        "id": "ZID5flIRzRU5",
        "outputId": "6285535d-6f09-471c-e9be-ab2e6b4747c8"
      },
      "execution_count": null,
      "outputs": [
        {
          "output_type": "execute_result",
          "data": {
            "text/plain": [
              "<seaborn.axisgrid.FacetGrid at 0x7fba9c5282b0>"
            ]
          },
          "metadata": {},
          "execution_count": 19
        },
        {
          "output_type": "display_data",
          "data": {
            "text/plain": [
              "<Figure size 360x360 with 1 Axes>"
            ],
            "image/png": "[encoded data removed]"
          },
          "metadata": {
            "needs_background": "light"
          }
        }
      ]
    },
    {
      "cell_type": "code",
      "source": [
        "sns.displot(df,x=\"DiabetesPedigreeFunction\",kind=\"kde\")"
      ],
      "metadata": {
        "colab": {
          "base_uri": "https://localhost:8080/",
          "height": 386
        },
        "id": "QwvymqH28CtO",
        "outputId": "18995e8d-c9db-4963-aba4-289ab1a3013f"
      },
      "execution_count": null,
      "outputs": [
        {
          "output_type": "execute_result",
          "data": {
            "text/plain": [
              "<seaborn.axisgrid.FacetGrid at 0x7fba9c5cc3a0>"
            ]
          },
          "metadata": {},
          "execution_count": 17
        },
        {
          "output_type": "display_data",
          "data": {
            "text/plain": [
              "<Figure size 360x360 with 1 Axes>"
            ],
            "image/png": "[encoded data removed]"
          },
          "metadata": {
            "needs_background": "light"
          }
        }
      ]
    },
    {
      "cell_type": "code",
      "source": [
        "sns.displot(df,x=\"Pregnancies\")"
      ],
      "metadata": {
        "colab": {
          "base_uri": "https://localhost:8080/",
          "height": 386
        },
        "id": "bea6xGwwyiYI",
        "outputId": "230825b7-b293-4b6a-d715-a2278ec9344a"
      },
      "execution_count": null,
      "outputs": [
        {
          "output_type": "execute_result",
          "data": {
            "text/plain": [
              "<seaborn.axisgrid.FacetGrid at 0x7fbaa10651f0>"
            ]
          },
          "metadata": {},
          "execution_count": 20
        },
        {
          "output_type": "display_data",
          "data": {
            "text/plain": [
              "<Figure size 360x360 with 1 Axes>"
            ],
            "image/png": "[encoded data removed]"
          },
          "metadata": {
            "needs_background": "light"
          }
        }
      ]
    },
    {
      "cell_type": "code",
      "source": [
        "sns.displot(df,x=\"Age\")"
      ],
      "metadata": {
        "colab": {
          "base_uri": "https://localhost:8080/",
          "height": 386
        },
        "id": "z8FiNpFU8Tg9",
        "outputId": "81051774-5f87-4e65-d965-665f054fde98"
      },
      "execution_count": null,
      "outputs": [
        {
          "output_type": "execute_result",
          "data": {
            "text/plain": [
              "<seaborn.axisgrid.FacetGrid at 0x7fba9c7fdd90>"
            ]
          },
          "metadata": {},
          "execution_count": 16
        },
        {
          "output_type": "display_data",
          "data": {
            "text/plain": [
              "<Figure size 360x360 with 1 Axes>"
            ],
            "image/png": "[encoded data removed]"
          },
          "metadata": {
            "needs_background": "light"
          }
        }
      ]
    },
    {
      "cell_type": "code",
      "source": [
        "df.isnull().sum()\n",
        "#there is no missing value in our dataset"
      ],
      "metadata": {
        "id": "fij4aiCEVD5b",
        "colab": {
          "base_uri": "https://localhost:8080/"
        },
        "outputId": "3f12ba4e-5306-44ce-af42-32cf86ab3fbd"
      },
      "execution_count": null,
      "outputs": [
        {
          "output_type": "execute_result",
          "data": {
            "text/plain": [
              "Pregnancies                 0\n",
              "Glucose                     0\n",
              "BloodPressure               0\n",
              "SkinThickness               0\n",
              "Insulin                     0\n",
              "BMI                         0\n",
              "DiabetesPedigreeFunction    0\n",
              "Age                         0\n",
              "Outcome                     0\n",
              "dtype: int64"
            ]
          },
          "metadata": {},
          "execution_count": 15
        }
      ]
    },
    {
      "cell_type": "markdown",
      "source": [
        "all of our features are numerical but they are in diffrent scale so next step is feature scailing"
      ],
      "metadata": {
        "id": "yYuyFeHjilHp"
      }
    },
    {
      "cell_type": "code",
      "source": [
        "X = StandardScaler().fit_transform(X)\n",
        "X"
      ],
      "metadata": {
        "colab": {
          "base_uri": "https://localhost:8080/"
        },
        "id": "k5NrUVsciUDP",
        "outputId": "b8b8941c-9293-44f0-bc62-674c31cd7789"
      },
      "execution_count": null,
      "outputs": [
        {
          "output_type": "execute_result",
          "data": {
            "text/plain": [
              "array([[ 0.63994726,  0.84832379,  0.14964075, ...,  0.20401277,\n",
              "         0.46849198,  1.4259954 ],\n",
              "       [-0.84488505, -1.12339636, -0.16054575, ..., -0.68442195,\n",
              "        -0.36506078, -0.19067191],\n",
              "       [ 1.23388019,  1.94372388, -0.26394125, ..., -1.10325546,\n",
              "         0.60439732, -0.10558415],\n",
              "       ...,\n",
              "       [ 0.3429808 ,  0.00330087,  0.14964075, ..., -0.73518964,\n",
              "        -0.68519336, -0.27575966],\n",
              "       [-0.84488505,  0.1597866 , -0.47073225, ..., -0.24020459,\n",
              "        -0.37110101,  1.17073215],\n",
              "       [-0.84488505, -0.8730192 ,  0.04624525, ..., -0.20212881,\n",
              "        -0.47378505, -0.87137393]])"
            ]
          },
          "metadata": {},
          "execution_count": 13
        }
      ]
    },
    {
      "cell_type": "code",
      "source": [
        "#feature selection\n",
        "corr=df.corr()\n",
        "corr"
      ],
      "metadata": {
        "colab": {
          "base_uri": "https://localhost:8080/",
          "height": 396
        },
        "id": "imq-T3jBiUGx",
        "outputId": "ceb88238-6ef1-471b-9bde-fe6f6ac59767"
      },
      "execution_count": null,
      "outputs": [
        {
          "output_type": "execute_result",
          "data": {
            "text/plain": [
              "                          Pregnancies   Glucose  BloodPressure  SkinThickness  \\\n",
              "Pregnancies                  1.000000  0.129459       0.141282      -0.081672   \n",
              "Glucose                      0.129459  1.000000       0.152590       0.057328   \n",
              "BloodPressure                0.141282  0.152590       1.000000       0.207371   \n",
              "SkinThickness               -0.081672  0.057328       0.207371       1.000000   \n",
              "Insulin                     -0.073535  0.331357       0.088933       0.436783   \n",
              "BMI                          0.017683  0.221071       0.281805       0.392573   \n",
              "DiabetesPedigreeFunction    -0.033523  0.137337       0.041265       0.183928   \n",
              "Age                          0.544341  0.263514       0.239528      -0.113970   \n",
              "Outcome                      0.221898  0.466581       0.065068       0.074752   \n",
              "\n",
              "                           Insulin       BMI  DiabetesPedigreeFunction  \\\n",
              "Pregnancies              -0.073535  0.017683                 -0.033523   \n",
              "Glucose                   0.331357  0.221071                  0.137337   \n",
              "BloodPressure             0.088933  0.281805                  0.041265   \n",
              "SkinThickness             0.436783  0.392573                  0.183928   \n",
              "Insulin                   1.000000  0.197859                  0.185071   \n",
              "BMI                       0.197859  1.000000                  0.140647   \n",
              "DiabetesPedigreeFunction  0.185071  0.140647                  1.000000   \n",
              "Age                      -0.042163  0.036242                  0.033561   \n",
              "Outcome                   0.130548  0.292695                  0.173844   \n",
              "\n",
              "                               Age   Outcome  \n",
              "Pregnancies               0.544341  0.221898  \n",
              "Glucose                   0.263514  0.466581  \n",
              "BloodPressure             0.239528  0.065068  \n",
              "SkinThickness            -0.113970  0.074752  \n",
              "Insulin                  -0.042163  0.130548  \n",
              "BMI                       0.036242  0.292695  \n",
              "DiabetesPedigreeFunction  0.033561  0.173844  \n",
              "Age                       1.000000  0.238356  \n",
              "Outcome                   0.238356  1.000000  "
            ],
            "text/html": [
              "\n",
              "  <div id=\"df-8ca864db-5320-481a-bc9f-a4327cf9662f\">\n",
              "    <div class=\"colab-df-container\">\n",
              "      <div>\n",
              "<style scoped>\n",
              "    .dataframe tbody tr th:only-of-type {\n",
              "        vertical-align: middle;\n",
              "    }\n",
              "\n",
              "    .dataframe tbody tr th {\n",
              "        vertical-align: top;\n",
              "    }\n",
              "\n",
              "    .dataframe thead th {\n",
              "        text-align: right;\n",
              "    }\n",
              "</style>\n",
              "<table border=\"1\" class=\"dataframe\">\n",
              "  <thead>\n",
              "    <tr style=\"text-align: right;\">\n",
              "      <th></th>\n",
              "      <th>Pregnancies</th>\n",
              "      <th>Glucose</th>\n",
              "      <th>BloodPressure</th>\n",
              "      <th>SkinThickness</th>\n",
              "      <th>Insulin</th>\n",
              "      <th>BMI</th>\n",
              "      <th>DiabetesPedigreeFunction</th>\n",
              "      <th>Age</th>\n",
              "      <th>Outcome</th>\n",
              "    </tr>\n",
              "  </thead>\n",
              "  <tbody>\n",
              "    <tr>\n",
              "      <th>Pregnancies</th>\n",
              "      <td>1.000000</td>\n",
              "      <td>0.129459</td>\n",
              "      <td>0.141282</td>\n",
              "      <td>-0.081672</td>\n",
              "      <td>-0.073535</td>\n",
              "      <td>0.017683</td>\n",
              "      <td>-0.033523</td>\n",
              "      <td>0.544341</td>\n",
              "      <td>0.221898</td>\n",
              "    </tr>\n",
              "    <tr>\n",
              "      <th>Glucose</th>\n",
              "      <td>0.129459</td>\n",
              "      <td>1.000000</td>\n",
              "      <td>0.152590</td>\n",
              "      <td>0.057328</td>\n",
              "      <td>0.331357</td>\n",
              "      <td>0.221071</td>\n",
              "      <td>0.137337</td>\n",
              "      <td>0.263514</td>\n",
              "      <td>0.466581</td>\n",
              "    </tr>\n",
              "    <tr>\n",
              "      <th>BloodPressure</th>\n",
              "      <td>0.141282</td>\n",
              "      <td>0.152590</td>\n",
              "      <td>1.000000</td>\n",
              "      <td>0.207371</td>\n",
              "      <td>0.088933</td>\n",
              "      <td>0.281805</td>\n",
              "      <td>0.041265</td>\n",
              "      <td>0.239528</td>\n",
              "      <td>0.065068</td>\n",
              "    </tr>\n",
              "    <tr>\n",
              "      <th>SkinThickness</th>\n",
              "      <td>-0.081672</td>\n",
              "      <td>0.057328</td>\n",
              "      <td>0.207371</td>\n",
              "      <td>1.000000</td>\n",
              "      <td>0.436783</td>\n",
              "      <td>0.392573</td>\n",
              "      <td>0.183928</td>\n",
              "      <td>-0.113970</td>\n",
              "      <td>0.074752</td>\n",
              "    </tr>\n",
              "    <tr>\n",
              "      <th>Insulin</th>\n",
              "      <td>-0.073535</td>\n",
              "      <td>0.331357</td>\n",
              "      <td>0.088933</td>\n",
              "      <td>0.436783</td>\n",
              "      <td>1.000000</td>\n",
              "      <td>0.197859</td>\n",
              "      <td>0.185071</td>\n",
              "      <td>-0.042163</td>\n",
              "      <td>0.130548</td>\n",
              "    </tr>\n",
              "    <tr>\n",
              "      <th>BMI</th>\n",
              "      <td>0.017683</td>\n",
              "      <td>0.221071</td>\n",
              "      <td>0.281805</td>\n",
              "      <td>0.392573</td>\n",
              "      <td>0.197859</td>\n",
              "      <td>1.000000</td>\n",
              "      <td>0.140647</td>\n",
              "      <td>0.036242</td>\n",
              "      <td>0.292695</td>\n",
              "    </tr>\n",
              "    <tr>\n",
              "      <th>DiabetesPedigreeFunction</th>\n",
              "      <td>-0.033523</td>\n",
              "      <td>0.137337</td>\n",
              "      <td>0.041265</td>\n",
              "      <td>0.183928</td>\n",
              "      <td>0.185071</td>\n",
              "      <td>0.140647</td>\n",
              "      <td>1.000000</td>\n",
              "      <td>0.033561</td>\n",
              "      <td>0.173844</td>\n",
              "    </tr>\n",
              "    <tr>\n",
              "      <th>Age</th>\n",
              "      <td>0.544341</td>\n",
              "      <td>0.263514</td>\n",
              "      <td>0.239528</td>\n",
              "      <td>-0.113970</td>\n",
              "      <td>-0.042163</td>\n",
              "      <td>0.036242</td>\n",
              "      <td>0.033561</td>\n",
              "      <td>1.000000</td>\n",
              "      <td>0.238356</td>\n",
              "    </tr>\n",
              "    <tr>\n",
              "      <th>Outcome</th>\n",
              "      <td>0.221898</td>\n",
              "      <td>0.466581</td>\n",
              "      <td>0.065068</td>\n",
              "      <td>0.074752</td>\n",
              "      <td>0.130548</td>\n",
              "      <td>0.292695</td>\n",
              "      <td>0.173844</td>\n",
              "      <td>0.238356</td>\n",
              "      <td>1.000000</td>\n",
              "    </tr>\n",
              "  </tbody>\n",
              "</table>\n",
              "</div>\n",
              "      <button class=\"colab-df-convert\" onclick=\"convertToInteractive('df-8ca864db-5320-481a-bc9f-a4327cf9662f')\"\n",
              "              title=\"Convert this dataframe to an interactive table.\"\n",
              "              style=\"display:none;\">\n",
              "        \n",
              "  <svg xmlns=\"http://www.w3.org/2000/svg\" height=\"24px\"viewBox=\"0 0 24 24\"\n",
              "       width=\"24px\">\n",
              "    <path d=\"M0 0h24v24H0V0z\" fill=\"none\"/>\n",
              "    <path d=\"M18.56 5.44l.94 2.06.94-2.06 2.06-.94-2.06-.94-.94-2.06-.94 2.06-2.06.94zm-11 1L8.5 8.5l.94-2.06 2.06-.94-2.06-.94L8.5 2.5l-.94 2.06-2.06.94zm10 10l.94 2.06.94-2.06 2.06-.94-2.06-.94-.94-2.06-.94 2.06-2.06.94z\"/><path d=\"M17.41 7.96l-1.37-1.37c-.4-.4-.92-.59-1.43-.59-.52 0-1.04.2-1.43.59L10.3 9.45l-7.72 7.72c-.78.78-.78 2.05 0 2.83L4 21.41c.39.39.9.59 1.41.59.51 0 1.02-.2 1.41-.59l7.78-7.78 2.81-2.81c.8-.78.8-2.07 0-2.86zM5.41 20L4 18.59l7.72-7.72 1.47 1.35L5.41 20z\"/>\n",
              "  </svg>\n",
              "      </button>\n",
              "      \n",
              "  <style>\n",
              "    .colab-df-container {\n",
              "      display:flex;\n",
              "      flex-wrap:wrap;\n",
              "      gap: 12px;\n",
              "    }\n",
              "\n",
              "    .colab-df-convert {\n",
              "      background-color: #E8F0FE;\n",
              "      border: none;\n",
              "      border-radius: 50%;\n",
              "      cursor: pointer;\n",
              "      display: none;\n",
              "      fill: #1967D2;\n",
              "      height: 32px;\n",
              "      padding: 0 0 0 0;\n",
              "      width: 32px;\n",
              "    }\n",
              "\n",
              "    .colab-df-convert:hover {\n",
              "      background-color: #E2EBFA;\n",
              "      box-shadow: 0px 1px 2px rgba(60, 64, 67, 0.3), 0px 1px 3px 1px rgba(60, 64, 67, 0.15);\n",
              "      fill: #174EA6;\n",
              "    }\n",
              "\n",
              "    [theme=dark] .colab-df-convert {\n",
              "      background-color: #3B4455;\n",
              "      fill: #D2E3FC;\n",
              "    }\n",
              "\n",
              "    [theme=dark] .colab-df-convert:hover {\n",
              "      background-color: #434B5C;\n",
              "      box-shadow: 0px 1px 3px 1px rgba(0, 0, 0, 0.15);\n",
              "      filter: drop-shadow(0px 1px 2px rgba(0, 0, 0, 0.3));\n",
              "      fill: #FFFFFF;\n",
              "    }\n",
              "  </style>\n",
              "\n",
              "      <script>\n",
              "        const buttonEl =\n",
              "          document.querySelector('#df-8ca864db-5320-481a-bc9f-a4327cf9662f button.colab-df-convert');\n",
              "        buttonEl.style.display =\n",
              "          google.colab.kernel.accessAllowed ? 'block' : 'none';\n",
              "\n",
              "        async function convertToInteractive(key) {\n",
              "          const element = document.querySelector('#df-8ca864db-5320-481a-bc9f-a4327cf9662f');\n",
              "          const dataTable =\n",
              "            await google.colab.kernel.invokeFunction('convertToInteractive',\n",
              "                                                     [key], {});\n",
              "          if (!dataTable) return;\n",
              "\n",
              "          const docLinkHtml = 'Like what you see? Visit the ' +\n",
              "            '<a target=\"_blank\" href=https://colab.research.google.com/notebooks/data_table.ipynb>data table notebook</a>'\n",
              "            + ' to learn more about interactive tables.';\n",
              "          element.innerHTML = '';\n",
              "          dataTable['output_type'] = 'display_data';\n",
              "          await google.colab.output.renderOutput(dataTable, element);\n",
              "          const docLink = document.createElement('div');\n",
              "          docLink.innerHTML = docLinkHtml;\n",
              "          element.appendChild(docLink);\n",
              "        }\n",
              "      </script>\n",
              "    </div>\n",
              "  </div>\n",
              "  "
            ]
          },
          "metadata": {},
          "execution_count": 14
        }
      ]
    },
    {
      "cell_type": "code",
      "source": [
        "plt.figure(figsize=(15,15))\n",
        "sns.heatmap(corr,annot=True,cmap=\"Greens\")"
      ],
      "metadata": {
        "colab": {
          "base_uri": "https://localhost:8080/",
          "height": 1000
        },
        "id": "ULFhAhRDiUKb",
        "outputId": "1021e7ef-6832-4193-a788-c81e08da50ff"
      },
      "execution_count": null,
      "outputs": [
        {
          "output_type": "execute_result",
          "data": {
            "text/plain": [
              "<matplotlib.axes._subplots.AxesSubplot at 0x7fba9c4bd250>"
            ]
          },
          "metadata": {},
          "execution_count": 21
        },
        {
          "output_type": "display_data",
          "data": {
            "text/plain": [
              "<Figure size 1080x1080 with 2 Axes>"
            ],
            "image/png": "[encoded data removed]"
          },
          "metadata": {
            "needs_background": "light"
          }
        }
      ]
    },
    {
      "cell_type": "code",
      "source": [
        "#correlation between our features with target value shows nonlinear relationship between them and we should use nonlinear Algorithms"
      ],
      "metadata": {
        "id": "Xf7fjiGbiUOI"
      },
      "execution_count": null,
      "outputs": []
    },
    {
      "cell_type": "code",
      "source": [
        "y=df[\"Outcome\"]\n",
        "X=df.iloc[:,:-1]\n",
        "X.head"
      ],
      "metadata": {
        "id": "TfIJ9a2irZIS",
        "colab": {
          "base_uri": "https://localhost:8080/"
        },
        "outputId": "84b9a2d3-1b1a-4535-c580-0a367322b6e9"
      },
      "execution_count": null,
      "outputs": [
        {
          "output_type": "execute_result",
          "data": {
            "text/plain": [
              "<bound method NDFrame.head of      Pregnancies  Glucose  BloodPressure  SkinThickness  Insulin   BMI  \\\n",
              "0              6      148             72             35        0  33.6   \n",
              "1              1       85             66             29        0  26.6   \n",
              "2              8      183             64              0        0  23.3   \n",
              "3              1       89             66             23       94  28.1   \n",
              "4              0      137             40             35      168  43.1   \n",
              "..           ...      ...            ...            ...      ...   ...   \n",
              "763           10      101             76             48      180  32.9   \n",
              "764            2      122             70             27        0  36.8   \n",
              "765            5      121             72             23      112  26.2   \n",
              "766            1      126             60              0        0  30.1   \n",
              "767            1       93             70             31        0  30.4   \n",
              "\n",
              "     DiabetesPedigreeFunction  Age  \n",
              "0                       0.627   50  \n",
              "1                       0.351   31  \n",
              "2                       0.672   32  \n",
              "3                       0.167   21  \n",
              "4                       2.288   33  \n",
              "..                        ...  ...  \n",
              "763                     0.171   63  \n",
              "764                     0.340   27  \n",
              "765                     0.245   30  \n",
              "766                     0.349   47  \n",
              "767                     0.315   23  \n",
              "\n",
              "[768 rows x 8 columns]>"
            ]
          },
          "metadata": {},
          "execution_count": 25
        }
      ]
    },
    {
      "cell_type": "code",
      "source": [
        "from sklearn.model_selection import train_test_split\n",
        "X_train,X_test,y_train,y_test=train_test_split(X,y,test_size=0.2,random_state=42)\n",
        "X_train.shape"
      ],
      "metadata": {
        "id": "S2mTqXK5rZLu",
        "colab": {
          "base_uri": "https://localhost:8080/"
        },
        "outputId": "db811de2-0266-4798-c97f-1b408e98a309"
      },
      "execution_count": null,
      "outputs": [
        {
          "output_type": "execute_result",
          "data": {
            "text/plain": [
              "(614, 8)"
            ]
          },
          "metadata": {},
          "execution_count": 32
        }
      ]
    },
    {
      "cell_type": "code",
      "source": [
        "from keras import Input\n",
        "from keras.layers import Dense\n",
        "#Define Inputs\n",
        "#first layer(input data) is Dimension of our X \n",
        "#The last dimension of the aforementioned one-dimensional input is always left hanging\n",
        "visible = Input(shape=(8,))"
      ],
      "metadata": {
        "id": "mP6DRDXurZOd"
      },
      "execution_count": null,
      "outputs": []
    },
    {
      "cell_type": "code",
      "source": [
        "#now create a hidden layer\n",
        "#This hidden layer shall be connected to our input layer and receive input from it\n",
        "## now connecting hidden layer to visible input layer\n",
        "hidden = Dense(2)(visible)"
      ],
      "metadata": {
        "id": "tfFSkrE2TN_W"
      },
      "execution_count": null,
      "outputs": []
    },
    {
      "cell_type": "code",
      "source": [
        "#Create your Model \n",
        "from keras.models import Model\n",
        "model_1=Model(inputs=visible,outputs=hidden)"
      ],
      "metadata": {
        "id": "Dy6PUNQiUACY"
      },
      "execution_count": null,
      "outputs": []
    },
    {
      "cell_type": "markdown",
      "source": [
        "The Sequential API"
      ],
      "metadata": {
        "id": "K2cC1yKtU2kQ"
      }
    },
    {
      "cell_type": "code",
      "source": [
        "#Each layer in the network \n",
        "model = keras.Sequential()\n",
        "model.add(Dense(12,input_dim=8,activation=\"relu\"))\n",
        "model.add(Dense(8,activation=\"relu\"))\n",
        "model.add(Dense(1,activation='sigmoid'))"
      ],
      "metadata": {
        "id": "p__ksZI9UzzN"
      },
      "execution_count": null,
      "outputs": []
    },
    {
      "cell_type": "code",
      "source": [
        "#\"binary_crossentropy\" compute the cross-entropy loss between true labels and predicted labels.\n",
        "#cuz our problem is binary classification we should use accuracy as metric\n",
        "model.compile(loss='binary_crossentropy',optimizer='adam',metrics=['accuracy'])"
      ],
      "metadata": {
        "id": "rBITqYO-rZRp"
      },
      "execution_count": null,
      "outputs": []
    },
    {
      "cell_type": "code",
      "source": [
        "model.fit(X_train,y_train,validation_data=(X_test,y_test),epochs=200,batch_size=10)"
      ],
      "metadata": {
        "colab": {
          "base_uri": "https://localhost:8080/"
        },
        "id": "WQUxbXb5XSmK",
        "outputId": "40664f62-be97-42cb-fa6c-a17627060f97"
      },
      "execution_count": null,
      "outputs": [
        {
          "output_type": "stream",
          "name": "stdout",
          "text": [
            "Epoch 1/200\n",
            "62/62 [==============================] - 1s 6ms/step - loss: 10.0500 - accuracy: 0.6531 - val_loss: 5.2677 - val_accuracy: 0.6364\n",
            "Epoch 2/200\n",
            "62/62 [==============================] - 0s 3ms/step - loss: 2.3011 - accuracy: 0.5586 - val_loss: 2.0942 - val_accuracy: 0.3506\n",
            "Epoch 3/200\n",
            "62/62 [==============================] - 0s 3ms/step - loss: 1.3030 - accuracy: 0.5261 - val_loss: 1.5051 - val_accuracy: 0.5130\n",
            "Epoch 4/200\n",
            "62/62 [==============================] - 0s 3ms/step - loss: 1.0549 - accuracy: 0.5863 - val_loss: 1.3430 - val_accuracy: 0.5714\n",
            "Epoch 5/200\n",
            "62/62 [==============================] - 0s 3ms/step - loss: 0.9536 - accuracy: 0.6303 - val_loss: 1.1593 - val_accuracy: 0.5909\n",
            "Epoch 6/200\n",
            "62/62 [==============================] - 0s 2ms/step - loss: 0.8448 - accuracy: 0.6221 - val_loss: 1.0110 - val_accuracy: 0.5779\n",
            "Epoch 7/200\n",
            "62/62 [==============================] - 0s 3ms/step - loss: 0.7766 - accuracy: 0.6482 - val_loss: 0.9063 - val_accuracy: 0.5649\n",
            "Epoch 8/200\n",
            "62/62 [==============================] - 0s 3ms/step - loss: 0.7388 - accuracy: 0.6466 - val_loss: 0.8390 - val_accuracy: 0.6039\n",
            "Epoch 9/200\n",
            "62/62 [==============================] - 0s 3ms/step - loss: 0.6930 - accuracy: 0.6629 - val_loss: 0.7997 - val_accuracy: 0.6169\n",
            "Epoch 10/200\n",
            "62/62 [==============================] - 0s 3ms/step - loss: 0.6744 - accuracy: 0.6792 - val_loss: 0.7934 - val_accuracy: 0.6039\n",
            "Epoch 11/200\n",
            "62/62 [==============================] - 0s 3ms/step - loss: 0.6745 - accuracy: 0.6759 - val_loss: 0.7638 - val_accuracy: 0.6039\n",
            "Epoch 12/200\n",
            "62/62 [==============================] - 0s 3ms/step - loss: 0.6723 - accuracy: 0.6661 - val_loss: 0.7617 - val_accuracy: 0.6299\n",
            "Epoch 13/200\n",
            "62/62 [==============================] - 0s 3ms/step - loss: 0.6550 - accuracy: 0.6922 - val_loss: 0.7414 - val_accuracy: 0.6494\n",
            "Epoch 14/200\n",
            "62/62 [==============================] - 0s 3ms/step - loss: 0.6566 - accuracy: 0.6743 - val_loss: 0.7397 - val_accuracy: 0.6234\n",
            "Epoch 15/200\n",
            "62/62 [==============================] - 0s 2ms/step - loss: 0.6553 - accuracy: 0.6792 - val_loss: 0.7200 - val_accuracy: 0.6494\n",
            "Epoch 16/200\n",
            "62/62 [==============================] - 0s 3ms/step - loss: 0.6380 - accuracy: 0.6743 - val_loss: 0.7157 - val_accuracy: 0.6494\n",
            "Epoch 17/200\n",
            "62/62 [==============================] - 0s 3ms/step - loss: 0.6292 - accuracy: 0.6906 - val_loss: 0.7103 - val_accuracy: 0.6558\n",
            "Epoch 18/200\n",
            "62/62 [==============================] - 0s 3ms/step - loss: 0.6354 - accuracy: 0.6808 - val_loss: 0.7047 - val_accuracy: 0.6753\n",
            "Epoch 19/200\n",
            "62/62 [==============================] - 0s 3ms/step - loss: 0.6324 - accuracy: 0.6906 - val_loss: 0.6920 - val_accuracy: 0.6623\n",
            "Epoch 20/200\n",
            "62/62 [==============================] - 0s 3ms/step - loss: 0.6277 - accuracy: 0.6906 - val_loss: 0.6970 - val_accuracy: 0.6364\n",
            "Epoch 21/200\n",
            "62/62 [==============================] - 0s 3ms/step - loss: 0.6244 - accuracy: 0.6873 - val_loss: 0.6811 - val_accuracy: 0.6494\n",
            "Epoch 22/200\n",
            "62/62 [==============================] - 0s 3ms/step - loss: 0.6089 - accuracy: 0.7068 - val_loss: 0.6772 - val_accuracy: 0.6623\n",
            "Epoch 23/200\n",
            "62/62 [==============================] - 0s 3ms/step - loss: 0.6179 - accuracy: 0.6954 - val_loss: 0.6960 - val_accuracy: 0.6364\n",
            "Epoch 24/200\n",
            "62/62 [==============================] - 0s 3ms/step - loss: 0.6229 - accuracy: 0.6808 - val_loss: 0.6669 - val_accuracy: 0.6948\n",
            "Epoch 25/200\n",
            "62/62 [==============================] - 0s 3ms/step - loss: 0.6283 - accuracy: 0.6661 - val_loss: 0.6914 - val_accuracy: 0.6558\n",
            "Epoch 26/200\n",
            "62/62 [==============================] - 0s 3ms/step - loss: 0.6151 - accuracy: 0.6857 - val_loss: 0.6693 - val_accuracy: 0.6623\n",
            "Epoch 27/200\n",
            "62/62 [==============================] - 0s 3ms/step - loss: 0.6023 - accuracy: 0.7052 - val_loss: 0.6703 - val_accuracy: 0.6558\n",
            "Epoch 28/200\n",
            "62/62 [==============================] - 0s 3ms/step - loss: 0.5972 - accuracy: 0.7052 - val_loss: 0.6528 - val_accuracy: 0.6948\n",
            "Epoch 29/200\n",
            "62/62 [==============================] - 0s 3ms/step - loss: 0.6003 - accuracy: 0.6954 - val_loss: 0.6635 - val_accuracy: 0.6688\n",
            "Epoch 30/200\n",
            "62/62 [==============================] - 0s 3ms/step - loss: 0.5896 - accuracy: 0.7068 - val_loss: 0.6518 - val_accuracy: 0.6818\n",
            "Epoch 31/200\n",
            "62/62 [==============================] - 0s 3ms/step - loss: 0.5861 - accuracy: 0.7020 - val_loss: 0.6479 - val_accuracy: 0.6818\n",
            "Epoch 32/200\n",
            "62/62 [==============================] - 0s 3ms/step - loss: 0.5825 - accuracy: 0.6971 - val_loss: 0.6457 - val_accuracy: 0.6948\n",
            "Epoch 33/200\n",
            "62/62 [==============================] - 0s 3ms/step - loss: 0.5780 - accuracy: 0.7068 - val_loss: 0.6585 - val_accuracy: 0.6364\n",
            "Epoch 34/200\n",
            "62/62 [==============================] - 0s 3ms/step - loss: 0.5762 - accuracy: 0.7085 - val_loss: 0.6443 - val_accuracy: 0.6948\n",
            "Epoch 35/200\n",
            "62/62 [==============================] - 0s 3ms/step - loss: 0.5928 - accuracy: 0.7003 - val_loss: 0.6491 - val_accuracy: 0.6558\n",
            "Epoch 36/200\n",
            "62/62 [==============================] - 0s 3ms/step - loss: 0.5868 - accuracy: 0.7166 - val_loss: 0.6346 - val_accuracy: 0.6948\n",
            "Epoch 37/200\n",
            "62/62 [==============================] - 0s 3ms/step - loss: 0.5738 - accuracy: 0.7166 - val_loss: 0.6531 - val_accuracy: 0.6883\n",
            "Epoch 38/200\n",
            "62/62 [==============================] - 0s 3ms/step - loss: 0.5694 - accuracy: 0.7085 - val_loss: 0.6513 - val_accuracy: 0.6623\n",
            "Epoch 39/200\n",
            "62/62 [==============================] - 0s 3ms/step - loss: 0.5743 - accuracy: 0.7003 - val_loss: 0.6453 - val_accuracy: 0.6558\n",
            "Epoch 40/200\n",
            "62/62 [==============================] - 0s 3ms/step - loss: 0.5723 - accuracy: 0.7101 - val_loss: 0.6476 - val_accuracy: 0.6753\n",
            "Epoch 41/200\n",
            "62/62 [==============================] - 0s 3ms/step - loss: 0.5726 - accuracy: 0.7052 - val_loss: 0.6363 - val_accuracy: 0.7013\n",
            "Epoch 42/200\n",
            "62/62 [==============================] - 0s 3ms/step - loss: 0.5567 - accuracy: 0.7036 - val_loss: 0.6394 - val_accuracy: 0.6883\n",
            "Epoch 43/200\n",
            "62/62 [==============================] - 0s 4ms/step - loss: 0.5569 - accuracy: 0.7182 - val_loss: 0.6279 - val_accuracy: 0.6948\n",
            "Epoch 44/200\n",
            "62/62 [==============================] - 0s 5ms/step - loss: 0.5592 - accuracy: 0.7248 - val_loss: 0.6306 - val_accuracy: 0.6948\n",
            "Epoch 45/200\n",
            "62/62 [==============================] - 0s 4ms/step - loss: 0.5529 - accuracy: 0.7248 - val_loss: 0.6366 - val_accuracy: 0.6429\n",
            "Epoch 46/200\n",
            "62/62 [==============================] - 0s 4ms/step - loss: 0.5514 - accuracy: 0.7150 - val_loss: 0.6263 - val_accuracy: 0.6818\n",
            "Epoch 47/200\n",
            "62/62 [==============================] - 0s 5ms/step - loss: 0.5492 - accuracy: 0.7068 - val_loss: 0.6213 - val_accuracy: 0.6688\n",
            "Epoch 48/200\n",
            "62/62 [==============================] - 0s 4ms/step - loss: 0.5664 - accuracy: 0.6987 - val_loss: 0.6444 - val_accuracy: 0.6623\n",
            "Epoch 49/200\n",
            "62/62 [==============================] - 0s 4ms/step - loss: 0.5426 - accuracy: 0.7199 - val_loss: 0.6471 - val_accuracy: 0.6688\n",
            "Epoch 50/200\n",
            "62/62 [==============================] - 0s 4ms/step - loss: 0.5415 - accuracy: 0.7248 - val_loss: 0.6374 - val_accuracy: 0.6688\n",
            "Epoch 51/200\n",
            "62/62 [==============================] - 0s 5ms/step - loss: 0.5422 - accuracy: 0.7264 - val_loss: 0.6471 - val_accuracy: 0.6623\n",
            "Epoch 52/200\n",
            "62/62 [==============================] - 0s 3ms/step - loss: 0.5504 - accuracy: 0.7166 - val_loss: 0.6056 - val_accuracy: 0.6948\n",
            "Epoch 53/200\n",
            "62/62 [==============================] - 0s 3ms/step - loss: 0.5409 - accuracy: 0.7248 - val_loss: 0.5998 - val_accuracy: 0.7338\n",
            "Epoch 54/200\n",
            "62/62 [==============================] - 0s 2ms/step - loss: 0.5399 - accuracy: 0.7329 - val_loss: 0.6093 - val_accuracy: 0.7338\n",
            "Epoch 55/200\n",
            "62/62 [==============================] - 0s 3ms/step - loss: 0.5407 - accuracy: 0.7215 - val_loss: 0.6079 - val_accuracy: 0.6883\n",
            "Epoch 56/200\n",
            "62/62 [==============================] - 0s 6ms/step - loss: 0.5446 - accuracy: 0.7182 - val_loss: 0.6071 - val_accuracy: 0.7403\n",
            "Epoch 57/200\n",
            "62/62 [==============================] - 0s 3ms/step - loss: 0.5333 - accuracy: 0.7313 - val_loss: 0.6299 - val_accuracy: 0.6688\n",
            "Epoch 58/200\n",
            "62/62 [==============================] - 0s 3ms/step - loss: 0.5358 - accuracy: 0.7313 - val_loss: 0.6135 - val_accuracy: 0.6753\n",
            "Epoch 59/200\n",
            "62/62 [==============================] - 0s 4ms/step - loss: 0.5336 - accuracy: 0.7280 - val_loss: 0.6036 - val_accuracy: 0.7013\n",
            "Epoch 60/200\n",
            "62/62 [==============================] - 0s 3ms/step - loss: 0.5321 - accuracy: 0.7296 - val_loss: 0.5937 - val_accuracy: 0.7468\n",
            "Epoch 61/200\n",
            "62/62 [==============================] - 0s 3ms/step - loss: 0.5306 - accuracy: 0.7329 - val_loss: 0.6124 - val_accuracy: 0.7078\n",
            "Epoch 62/200\n",
            "62/62 [==============================] - 0s 3ms/step - loss: 0.5445 - accuracy: 0.7199 - val_loss: 0.6011 - val_accuracy: 0.7013\n",
            "Epoch 63/200\n",
            "62/62 [==============================] - 0s 3ms/step - loss: 0.5349 - accuracy: 0.7264 - val_loss: 0.6356 - val_accuracy: 0.6818\n",
            "Epoch 64/200\n",
            "62/62 [==============================] - 0s 3ms/step - loss: 0.5270 - accuracy: 0.7378 - val_loss: 0.6072 - val_accuracy: 0.7013\n",
            "Epoch 65/200\n",
            "62/62 [==============================] - 0s 3ms/step - loss: 0.5347 - accuracy: 0.7345 - val_loss: 0.5913 - val_accuracy: 0.7403\n",
            "Epoch 66/200\n",
            "62/62 [==============================] - 0s 3ms/step - loss: 0.5237 - accuracy: 0.7313 - val_loss: 0.5977 - val_accuracy: 0.7143\n",
            "Epoch 67/200\n",
            "62/62 [==============================] - 0s 3ms/step - loss: 0.5347 - accuracy: 0.7134 - val_loss: 0.6406 - val_accuracy: 0.6753\n",
            "Epoch 68/200\n",
            "62/62 [==============================] - 0s 3ms/step - loss: 0.5459 - accuracy: 0.7345 - val_loss: 0.6081 - val_accuracy: 0.6948\n",
            "Epoch 69/200\n",
            "62/62 [==============================] - 0s 3ms/step - loss: 0.5232 - accuracy: 0.7248 - val_loss: 0.5967 - val_accuracy: 0.7208\n",
            "Epoch 70/200\n",
            "62/62 [==============================] - 0s 3ms/step - loss: 0.5230 - accuracy: 0.7476 - val_loss: 0.5908 - val_accuracy: 0.7273\n",
            "Epoch 71/200\n",
            "62/62 [==============================] - 0s 3ms/step - loss: 0.5315 - accuracy: 0.7296 - val_loss: 0.5910 - val_accuracy: 0.7662\n",
            "Epoch 72/200\n",
            "62/62 [==============================] - 0s 3ms/step - loss: 0.5322 - accuracy: 0.7296 - val_loss: 0.6100 - val_accuracy: 0.6883\n",
            "Epoch 73/200\n",
            "62/62 [==============================] - 0s 3ms/step - loss: 0.5278 - accuracy: 0.7313 - val_loss: 0.5953 - val_accuracy: 0.7208\n",
            "Epoch 74/200\n",
            "62/62 [==============================] - 0s 3ms/step - loss: 0.5163 - accuracy: 0.7296 - val_loss: 0.5990 - val_accuracy: 0.7013\n",
            "Epoch 75/200\n",
            "62/62 [==============================] - 0s 3ms/step - loss: 0.5285 - accuracy: 0.7345 - val_loss: 0.5845 - val_accuracy: 0.7338\n",
            "Epoch 76/200\n",
            "62/62 [==============================] - 0s 3ms/step - loss: 0.5138 - accuracy: 0.7476 - val_loss: 0.6091 - val_accuracy: 0.6948\n",
            "Epoch 77/200\n",
            "62/62 [==============================] - 0s 3ms/step - loss: 0.5309 - accuracy: 0.7329 - val_loss: 0.5919 - val_accuracy: 0.7403\n",
            "Epoch 78/200\n",
            "62/62 [==============================] - 0s 3ms/step - loss: 0.5200 - accuracy: 0.7362 - val_loss: 0.5887 - val_accuracy: 0.7208\n",
            "Epoch 79/200\n",
            "62/62 [==============================] - 0s 3ms/step - loss: 0.5134 - accuracy: 0.7427 - val_loss: 0.5965 - val_accuracy: 0.7143\n",
            "Epoch 80/200\n",
            "62/62 [==============================] - 0s 3ms/step - loss: 0.5219 - accuracy: 0.7459 - val_loss: 0.5883 - val_accuracy: 0.7338\n",
            "Epoch 81/200\n",
            "62/62 [==============================] - 0s 3ms/step - loss: 0.5185 - accuracy: 0.7329 - val_loss: 0.5867 - val_accuracy: 0.7338\n",
            "Epoch 82/200\n",
            "62/62 [==============================] - 0s 3ms/step - loss: 0.5209 - accuracy: 0.7427 - val_loss: 0.6089 - val_accuracy: 0.7078\n",
            "Epoch 83/200\n",
            "62/62 [==============================] - 0s 3ms/step - loss: 0.5127 - accuracy: 0.7476 - val_loss: 0.5768 - val_accuracy: 0.7662\n",
            "Epoch 84/200\n",
            "62/62 [==============================] - 0s 3ms/step - loss: 0.5272 - accuracy: 0.7280 - val_loss: 0.5961 - val_accuracy: 0.7273\n",
            "Epoch 85/200\n",
            "62/62 [==============================] - 0s 3ms/step - loss: 0.5145 - accuracy: 0.7296 - val_loss: 0.5816 - val_accuracy: 0.7662\n",
            "Epoch 86/200\n",
            "62/62 [==============================] - 0s 3ms/step - loss: 0.5098 - accuracy: 0.7492 - val_loss: 0.5917 - val_accuracy: 0.7143\n",
            "Epoch 87/200\n",
            "62/62 [==============================] - 0s 3ms/step - loss: 0.5140 - accuracy: 0.7362 - val_loss: 0.5865 - val_accuracy: 0.7403\n",
            "Epoch 88/200\n",
            "62/62 [==============================] - 0s 3ms/step - loss: 0.5124 - accuracy: 0.7476 - val_loss: 0.6055 - val_accuracy: 0.7208\n",
            "Epoch 89/200\n",
            "62/62 [==============================] - 0s 3ms/step - loss: 0.5087 - accuracy: 0.7508 - val_loss: 0.5776 - val_accuracy: 0.7662\n",
            "Epoch 90/200\n",
            "62/62 [==============================] - 0s 3ms/step - loss: 0.5072 - accuracy: 0.7524 - val_loss: 0.5821 - val_accuracy: 0.7468\n",
            "Epoch 91/200\n",
            "62/62 [==============================] - 0s 3ms/step - loss: 0.5066 - accuracy: 0.7476 - val_loss: 0.5903 - val_accuracy: 0.7338\n",
            "Epoch 92/200\n",
            "62/62 [==============================] - 0s 3ms/step - loss: 0.5102 - accuracy: 0.7492 - val_loss: 0.5871 - val_accuracy: 0.7208\n",
            "Epoch 93/200\n",
            "62/62 [==============================] - 0s 3ms/step - loss: 0.5099 - accuracy: 0.7427 - val_loss: 0.5920 - val_accuracy: 0.6948\n",
            "Epoch 94/200\n",
            "62/62 [==============================] - 0s 3ms/step - loss: 0.5163 - accuracy: 0.7378 - val_loss: 0.5754 - val_accuracy: 0.7662\n",
            "Epoch 95/200\n",
            "62/62 [==============================] - 0s 3ms/step - loss: 0.5126 - accuracy: 0.7394 - val_loss: 0.5772 - val_accuracy: 0.7662\n",
            "Epoch 96/200\n",
            "62/62 [==============================] - 0s 3ms/step - loss: 0.5078 - accuracy: 0.7362 - val_loss: 0.5932 - val_accuracy: 0.7273\n",
            "Epoch 97/200\n",
            "62/62 [==============================] - 0s 3ms/step - loss: 0.5162 - accuracy: 0.7443 - val_loss: 0.5916 - val_accuracy: 0.7208\n",
            "Epoch 98/200\n",
            "62/62 [==============================] - 0s 3ms/step - loss: 0.5165 - accuracy: 0.7362 - val_loss: 0.5841 - val_accuracy: 0.7338\n",
            "Epoch 99/200\n",
            "62/62 [==============================] - 0s 3ms/step - loss: 0.5073 - accuracy: 0.7443 - val_loss: 0.5819 - val_accuracy: 0.7597\n",
            "Epoch 100/200\n",
            "62/62 [==============================] - 0s 3ms/step - loss: 0.5030 - accuracy: 0.7443 - val_loss: 0.5852 - val_accuracy: 0.7403\n",
            "Epoch 101/200\n",
            "62/62 [==============================] - 0s 3ms/step - loss: 0.5023 - accuracy: 0.7476 - val_loss: 0.5766 - val_accuracy: 0.7662\n",
            "Epoch 102/200\n",
            "62/62 [==============================] - 0s 3ms/step - loss: 0.5129 - accuracy: 0.7459 - val_loss: 0.5912 - val_accuracy: 0.7078\n",
            "Epoch 103/200\n",
            "62/62 [==============================] - 0s 3ms/step - loss: 0.5003 - accuracy: 0.7492 - val_loss: 0.5812 - val_accuracy: 0.7338\n",
            "Epoch 104/200\n",
            "62/62 [==============================] - 0s 3ms/step - loss: 0.5019 - accuracy: 0.7345 - val_loss: 0.5730 - val_accuracy: 0.7532\n",
            "Epoch 105/200\n",
            "62/62 [==============================] - 0s 4ms/step - loss: 0.5003 - accuracy: 0.7557 - val_loss: 0.5767 - val_accuracy: 0.7532\n",
            "Epoch 106/200\n",
            "62/62 [==============================] - 0s 5ms/step - loss: 0.5011 - accuracy: 0.7541 - val_loss: 0.5876 - val_accuracy: 0.7532\n",
            "Epoch 107/200\n",
            "62/62 [==============================] - 0s 4ms/step - loss: 0.5131 - accuracy: 0.7345 - val_loss: 0.5810 - val_accuracy: 0.7143\n",
            "Epoch 108/200\n",
            "62/62 [==============================] - 0s 4ms/step - loss: 0.5100 - accuracy: 0.7394 - val_loss: 0.5699 - val_accuracy: 0.7662\n",
            "Epoch 109/200\n",
            "62/62 [==============================] - 0s 4ms/step - loss: 0.5023 - accuracy: 0.7492 - val_loss: 0.5816 - val_accuracy: 0.7338\n",
            "Epoch 110/200\n",
            "62/62 [==============================] - 0s 4ms/step - loss: 0.5062 - accuracy: 0.7524 - val_loss: 0.5772 - val_accuracy: 0.7338\n",
            "Epoch 111/200\n",
            "62/62 [==============================] - 0s 5ms/step - loss: 0.5069 - accuracy: 0.7655 - val_loss: 0.5930 - val_accuracy: 0.7208\n",
            "Epoch 112/200\n",
            "62/62 [==============================] - 0s 4ms/step - loss: 0.5044 - accuracy: 0.7443 - val_loss: 0.5642 - val_accuracy: 0.7792\n",
            "Epoch 113/200\n",
            "62/62 [==============================] - 0s 4ms/step - loss: 0.4980 - accuracy: 0.7476 - val_loss: 0.5739 - val_accuracy: 0.7727\n",
            "Epoch 114/200\n",
            "62/62 [==============================] - 0s 4ms/step - loss: 0.4952 - accuracy: 0.7590 - val_loss: 0.5772 - val_accuracy: 0.7468\n",
            "Epoch 115/200\n",
            "62/62 [==============================] - 0s 4ms/step - loss: 0.5051 - accuracy: 0.7459 - val_loss: 0.5817 - val_accuracy: 0.7208\n",
            "Epoch 116/200\n",
            "62/62 [==============================] - 0s 3ms/step - loss: 0.5011 - accuracy: 0.7394 - val_loss: 0.5720 - val_accuracy: 0.7532\n",
            "Epoch 117/200\n",
            "62/62 [==============================] - 0s 3ms/step - loss: 0.4977 - accuracy: 0.7459 - val_loss: 0.5710 - val_accuracy: 0.7338\n",
            "Epoch 118/200\n",
            "62/62 [==============================] - 0s 3ms/step - loss: 0.4927 - accuracy: 0.7606 - val_loss: 0.5656 - val_accuracy: 0.7468\n",
            "Epoch 119/200\n",
            "62/62 [==============================] - 0s 3ms/step - loss: 0.5038 - accuracy: 0.7557 - val_loss: 0.5854 - val_accuracy: 0.7208\n",
            "Epoch 120/200\n",
            "62/62 [==============================] - 0s 3ms/step - loss: 0.4876 - accuracy: 0.7704 - val_loss: 0.5797 - val_accuracy: 0.7403\n",
            "Epoch 121/200\n",
            "62/62 [==============================] - 0s 3ms/step - loss: 0.5078 - accuracy: 0.7590 - val_loss: 0.5716 - val_accuracy: 0.7597\n",
            "Epoch 122/200\n",
            "62/62 [==============================] - 0s 3ms/step - loss: 0.4941 - accuracy: 0.7492 - val_loss: 0.5861 - val_accuracy: 0.7143\n",
            "Epoch 123/200\n",
            "62/62 [==============================] - 0s 3ms/step - loss: 0.4958 - accuracy: 0.7508 - val_loss: 0.5662 - val_accuracy: 0.7662\n",
            "Epoch 124/200\n",
            "62/62 [==============================] - 0s 3ms/step - loss: 0.4919 - accuracy: 0.7557 - val_loss: 0.5846 - val_accuracy: 0.7338\n",
            "Epoch 125/200\n",
            "62/62 [==============================] - 0s 3ms/step - loss: 0.4845 - accuracy: 0.7590 - val_loss: 0.5852 - val_accuracy: 0.6948\n",
            "Epoch 126/200\n",
            "62/62 [==============================] - 0s 3ms/step - loss: 0.4984 - accuracy: 0.7557 - val_loss: 0.6199 - val_accuracy: 0.7078\n",
            "Epoch 127/200\n",
            "62/62 [==============================] - 0s 3ms/step - loss: 0.5089 - accuracy: 0.7378 - val_loss: 0.5819 - val_accuracy: 0.7143\n",
            "Epoch 128/200\n",
            "62/62 [==============================] - 0s 3ms/step - loss: 0.4962 - accuracy: 0.7492 - val_loss: 0.5686 - val_accuracy: 0.7403\n",
            "Epoch 129/200\n",
            "62/62 [==============================] - 0s 3ms/step - loss: 0.4924 - accuracy: 0.7508 - val_loss: 0.5667 - val_accuracy: 0.7468\n",
            "Epoch 130/200\n",
            "62/62 [==============================] - 0s 3ms/step - loss: 0.4954 - accuracy: 0.7524 - val_loss: 0.5665 - val_accuracy: 0.7532\n",
            "Epoch 131/200\n",
            "62/62 [==============================] - 0s 3ms/step - loss: 0.4823 - accuracy: 0.7573 - val_loss: 0.5700 - val_accuracy: 0.7532\n",
            "Epoch 132/200\n",
            "62/62 [==============================] - 0s 3ms/step - loss: 0.4842 - accuracy: 0.7524 - val_loss: 0.5792 - val_accuracy: 0.7078\n",
            "Epoch 133/200\n",
            "62/62 [==============================] - 0s 3ms/step - loss: 0.4919 - accuracy: 0.7687 - val_loss: 0.5705 - val_accuracy: 0.7532\n",
            "Epoch 134/200\n",
            "62/62 [==============================] - 0s 3ms/step - loss: 0.4926 - accuracy: 0.7720 - val_loss: 0.5688 - val_accuracy: 0.7273\n",
            "Epoch 135/200\n",
            "62/62 [==============================] - 0s 3ms/step - loss: 0.4894 - accuracy: 0.7573 - val_loss: 0.5575 - val_accuracy: 0.7338\n",
            "Epoch 136/200\n",
            "62/62 [==============================] - 0s 3ms/step - loss: 0.4840 - accuracy: 0.7655 - val_loss: 0.5676 - val_accuracy: 0.7403\n",
            "Epoch 137/200\n",
            "62/62 [==============================] - 0s 3ms/step - loss: 0.4841 - accuracy: 0.7524 - val_loss: 0.5618 - val_accuracy: 0.7338\n",
            "Epoch 138/200\n",
            "62/62 [==============================] - 0s 3ms/step - loss: 0.4838 - accuracy: 0.7573 - val_loss: 0.5625 - val_accuracy: 0.7338\n",
            "Epoch 139/200\n",
            "62/62 [==============================] - 0s 3ms/step - loss: 0.4874 - accuracy: 0.7671 - val_loss: 0.5652 - val_accuracy: 0.7597\n",
            "Epoch 140/200\n",
            "62/62 [==============================] - 0s 3ms/step - loss: 0.4933 - accuracy: 0.7573 - val_loss: 0.5631 - val_accuracy: 0.7403\n",
            "Epoch 141/200\n",
            "62/62 [==============================] - 0s 3ms/step - loss: 0.4860 - accuracy: 0.7524 - val_loss: 0.5617 - val_accuracy: 0.7468\n",
            "Epoch 142/200\n",
            "62/62 [==============================] - 0s 3ms/step - loss: 0.4799 - accuracy: 0.7557 - val_loss: 0.5619 - val_accuracy: 0.7597\n",
            "Epoch 143/200\n",
            "62/62 [==============================] - 0s 3ms/step - loss: 0.4772 - accuracy: 0.7655 - val_loss: 0.5564 - val_accuracy: 0.7662\n",
            "Epoch 144/200\n",
            "62/62 [==============================] - 0s 3ms/step - loss: 0.4876 - accuracy: 0.7638 - val_loss: 0.5579 - val_accuracy: 0.7468\n",
            "Epoch 145/200\n",
            "62/62 [==============================] - 0s 4ms/step - loss: 0.4759 - accuracy: 0.7638 - val_loss: 0.5856 - val_accuracy: 0.7208\n",
            "Epoch 146/200\n",
            "62/62 [==============================] - 0s 3ms/step - loss: 0.4974 - accuracy: 0.7345 - val_loss: 0.5565 - val_accuracy: 0.7468\n",
            "Epoch 147/200\n",
            "62/62 [==============================] - 0s 3ms/step - loss: 0.4813 - accuracy: 0.7508 - val_loss: 0.5559 - val_accuracy: 0.7532\n",
            "Epoch 148/200\n",
            "62/62 [==============================] - 0s 3ms/step - loss: 0.4822 - accuracy: 0.7687 - val_loss: 0.5642 - val_accuracy: 0.7403\n",
            "Epoch 149/200\n",
            "62/62 [==============================] - 0s 4ms/step - loss: 0.4853 - accuracy: 0.7687 - val_loss: 0.5662 - val_accuracy: 0.7597\n",
            "Epoch 150/200\n",
            "62/62 [==============================] - 0s 3ms/step - loss: 0.4872 - accuracy: 0.7573 - val_loss: 0.5668 - val_accuracy: 0.7532\n",
            "Epoch 151/200\n",
            "62/62 [==============================] - 0s 3ms/step - loss: 0.4830 - accuracy: 0.7671 - val_loss: 0.5568 - val_accuracy: 0.7857\n",
            "Epoch 152/200\n",
            "62/62 [==============================] - 0s 3ms/step - loss: 0.4821 - accuracy: 0.7573 - val_loss: 0.5518 - val_accuracy: 0.7597\n",
            "Epoch 153/200\n",
            "62/62 [==============================] - 0s 3ms/step - loss: 0.4760 - accuracy: 0.7736 - val_loss: 0.5712 - val_accuracy: 0.7403\n",
            "Epoch 154/200\n",
            "62/62 [==============================] - 0s 3ms/step - loss: 0.4809 - accuracy: 0.7687 - val_loss: 0.5625 - val_accuracy: 0.7403\n",
            "Epoch 155/200\n",
            "62/62 [==============================] - 0s 3ms/step - loss: 0.4768 - accuracy: 0.7606 - val_loss: 0.5542 - val_accuracy: 0.7468\n",
            "Epoch 156/200\n",
            "62/62 [==============================] - 0s 3ms/step - loss: 0.4716 - accuracy: 0.7720 - val_loss: 0.5553 - val_accuracy: 0.7468\n",
            "Epoch 157/200\n",
            "62/62 [==============================] - 0s 3ms/step - loss: 0.4718 - accuracy: 0.7736 - val_loss: 0.5553 - val_accuracy: 0.7597\n",
            "Epoch 158/200\n",
            "62/62 [==============================] - 0s 3ms/step - loss: 0.4741 - accuracy: 0.7606 - val_loss: 0.5470 - val_accuracy: 0.7727\n",
            "Epoch 159/200\n",
            "62/62 [==============================] - 0s 3ms/step - loss: 0.4832 - accuracy: 0.7524 - val_loss: 0.5968 - val_accuracy: 0.7143\n",
            "Epoch 160/200\n",
            "62/62 [==============================] - 0s 3ms/step - loss: 0.4806 - accuracy: 0.7557 - val_loss: 0.5507 - val_accuracy: 0.7403\n",
            "Epoch 161/200\n",
            "62/62 [==============================] - 0s 3ms/step - loss: 0.4884 - accuracy: 0.7655 - val_loss: 0.5480 - val_accuracy: 0.7662\n",
            "Epoch 162/200\n",
            "62/62 [==============================] - 0s 3ms/step - loss: 0.4782 - accuracy: 0.7557 - val_loss: 0.5824 - val_accuracy: 0.7468\n",
            "Epoch 163/200\n",
            "62/62 [==============================] - 0s 3ms/step - loss: 0.4862 - accuracy: 0.7541 - val_loss: 0.5497 - val_accuracy: 0.7727\n",
            "Epoch 164/200\n",
            "62/62 [==============================] - 0s 3ms/step - loss: 0.4695 - accuracy: 0.7752 - val_loss: 0.5805 - val_accuracy: 0.7208\n",
            "Epoch 165/200\n",
            "62/62 [==============================] - 0s 3ms/step - loss: 0.4732 - accuracy: 0.7687 - val_loss: 0.5716 - val_accuracy: 0.7143\n",
            "Epoch 166/200\n",
            "62/62 [==============================] - 0s 3ms/step - loss: 0.4705 - accuracy: 0.7655 - val_loss: 0.5595 - val_accuracy: 0.7403\n",
            "Epoch 167/200\n",
            "62/62 [==============================] - 0s 3ms/step - loss: 0.4695 - accuracy: 0.7655 - val_loss: 0.5602 - val_accuracy: 0.7273\n",
            "Epoch 168/200\n",
            "62/62 [==============================] - 0s 4ms/step - loss: 0.4741 - accuracy: 0.7622 - val_loss: 0.5520 - val_accuracy: 0.7338\n",
            "Epoch 169/200\n",
            "62/62 [==============================] - 0s 5ms/step - loss: 0.4762 - accuracy: 0.7622 - val_loss: 0.5608 - val_accuracy: 0.7403\n",
            "Epoch 170/200\n",
            "62/62 [==============================] - 0s 4ms/step - loss: 0.4742 - accuracy: 0.7622 - val_loss: 0.5517 - val_accuracy: 0.7662\n",
            "Epoch 171/200\n",
            "62/62 [==============================] - 0s 4ms/step - loss: 0.4698 - accuracy: 0.7801 - val_loss: 0.5456 - val_accuracy: 0.7792\n",
            "Epoch 172/200\n",
            "62/62 [==============================] - 0s 4ms/step - loss: 0.4664 - accuracy: 0.7687 - val_loss: 0.5619 - val_accuracy: 0.7338\n",
            "Epoch 173/200\n",
            "62/62 [==============================] - 0s 4ms/step - loss: 0.4659 - accuracy: 0.7671 - val_loss: 0.5726 - val_accuracy: 0.7403\n",
            "Epoch 174/200\n",
            "62/62 [==============================] - 0s 4ms/step - loss: 0.4745 - accuracy: 0.7655 - val_loss: 0.5571 - val_accuracy: 0.7468\n",
            "Epoch 175/200\n",
            "62/62 [==============================] - 0s 4ms/step - loss: 0.4946 - accuracy: 0.7492 - val_loss: 0.5745 - val_accuracy: 0.7338\n",
            "Epoch 176/200\n",
            "62/62 [==============================] - 0s 4ms/step - loss: 0.4726 - accuracy: 0.7655 - val_loss: 0.5504 - val_accuracy: 0.7403\n",
            "Epoch 177/200\n",
            "62/62 [==============================] - 0s 4ms/step - loss: 0.4686 - accuracy: 0.7720 - val_loss: 0.5549 - val_accuracy: 0.7662\n",
            "Epoch 178/200\n",
            "62/62 [==============================] - 0s 4ms/step - loss: 0.4705 - accuracy: 0.7655 - val_loss: 0.5618 - val_accuracy: 0.7662\n",
            "Epoch 179/200\n",
            "62/62 [==============================] - 0s 3ms/step - loss: 0.4724 - accuracy: 0.7541 - val_loss: 0.5503 - val_accuracy: 0.6883\n",
            "Epoch 180/200\n",
            "62/62 [==============================] - 0s 3ms/step - loss: 0.4683 - accuracy: 0.7704 - val_loss: 0.5536 - val_accuracy: 0.7468\n",
            "Epoch 181/200\n",
            "62/62 [==============================] - 0s 3ms/step - loss: 0.4688 - accuracy: 0.7622 - val_loss: 0.5451 - val_accuracy: 0.7532\n",
            "Epoch 182/200\n",
            "62/62 [==============================] - 0s 3ms/step - loss: 0.4616 - accuracy: 0.7720 - val_loss: 0.5594 - val_accuracy: 0.7403\n",
            "Epoch 183/200\n",
            "62/62 [==============================] - 0s 3ms/step - loss: 0.4738 - accuracy: 0.7687 - val_loss: 0.5663 - val_accuracy: 0.7338\n",
            "Epoch 184/200\n",
            "62/62 [==============================] - 0s 3ms/step - loss: 0.4636 - accuracy: 0.7801 - val_loss: 0.5607 - val_accuracy: 0.7338\n",
            "Epoch 185/200\n",
            "62/62 [==============================] - 0s 4ms/step - loss: 0.4601 - accuracy: 0.7834 - val_loss: 0.5455 - val_accuracy: 0.7403\n",
            "Epoch 186/200\n",
            "62/62 [==============================] - 0s 3ms/step - loss: 0.4607 - accuracy: 0.7752 - val_loss: 0.5543 - val_accuracy: 0.7208\n",
            "Epoch 187/200\n",
            "62/62 [==============================] - 0s 3ms/step - loss: 0.4603 - accuracy: 0.7704 - val_loss: 0.5515 - val_accuracy: 0.7403\n",
            "Epoch 188/200\n",
            "62/62 [==============================] - 0s 3ms/step - loss: 0.4589 - accuracy: 0.7899 - val_loss: 0.5757 - val_accuracy: 0.7078\n",
            "Epoch 189/200\n",
            "62/62 [==============================] - 0s 3ms/step - loss: 0.4684 - accuracy: 0.7655 - val_loss: 0.5567 - val_accuracy: 0.7273\n",
            "Epoch 190/200\n",
            "62/62 [==============================] - 0s 3ms/step - loss: 0.4657 - accuracy: 0.7769 - val_loss: 0.5435 - val_accuracy: 0.7532\n",
            "Epoch 191/200\n",
            "62/62 [==============================] - 0s 3ms/step - loss: 0.4602 - accuracy: 0.7638 - val_loss: 0.5429 - val_accuracy: 0.7208\n",
            "Epoch 192/200\n",
            "62/62 [==============================] - 0s 3ms/step - loss: 0.4596 - accuracy: 0.7720 - val_loss: 0.5439 - val_accuracy: 0.7662\n",
            "Epoch 193/200\n",
            "62/62 [==============================] - 0s 3ms/step - loss: 0.4594 - accuracy: 0.7704 - val_loss: 0.5666 - val_accuracy: 0.7403\n",
            "Epoch 194/200\n",
            "62/62 [==============================] - 0s 3ms/step - loss: 0.4683 - accuracy: 0.7524 - val_loss: 0.5503 - val_accuracy: 0.7597\n",
            "Epoch 195/200\n",
            "62/62 [==============================] - 0s 3ms/step - loss: 0.4584 - accuracy: 0.7948 - val_loss: 0.5544 - val_accuracy: 0.7143\n",
            "Epoch 196/200\n",
            "62/62 [==============================] - 0s 3ms/step - loss: 0.4614 - accuracy: 0.7671 - val_loss: 0.5445 - val_accuracy: 0.7727\n",
            "Epoch 197/200\n",
            "62/62 [==============================] - 0s 3ms/step - loss: 0.4506 - accuracy: 0.8046 - val_loss: 0.5577 - val_accuracy: 0.7532\n",
            "Epoch 198/200\n",
            "62/62 [==============================] - 0s 3ms/step - loss: 0.4559 - accuracy: 0.7769 - val_loss: 0.5519 - val_accuracy: 0.7532\n",
            "Epoch 199/200\n",
            "62/62 [==============================] - 0s 3ms/step - loss: 0.4592 - accuracy: 0.7785 - val_loss: 0.5587 - val_accuracy: 0.7078\n",
            "Epoch 200/200\n",
            "62/62 [==============================] - 0s 3ms/step - loss: 0.4536 - accuracy: 0.7736 - val_loss: 0.5642 - val_accuracy: 0.7532\n"
          ]
        },
        {
          "output_type": "execute_result",
          "data": {
            "text/plain": [
              "<keras.callbacks.History at 0x7fba87e5b250>"
            ]
          },
          "metadata": {},
          "execution_count": 55
        }
      ]
    },
    {
      "cell_type": "code",
      "source": [
        "#train set accuracy\n",
        "scores=model.evaluate(X_train,y_train)\n",
        "scores"
      ],
      "metadata": {
        "colab": {
          "base_uri": "https://localhost:8080/"
        },
        "id": "FT3YtoPAYqHO",
        "outputId": "69040850-0f7d-4d15-995e-4772becf76eb"
      },
      "execution_count": null,
      "outputs": [
        {
          "output_type": "stream",
          "name": "stdout",
          "text": [
            "20/20 [==============================] - 0s 2ms/step - loss: 0.4568 - accuracy: 0.7785\n"
          ]
        },
        {
          "output_type": "execute_result",
          "data": {
            "text/plain": [
              "[0.45678406953811646, 0.7785016298294067]"
            ]
          },
          "metadata": {},
          "execution_count": 57
        }
      ]
    },
    {
      "cell_type": "code",
      "source": [
        "#test set accuracy\n",
        "scores=model.evaluate(X_test,y_test)\n",
        "scores"
      ],
      "metadata": {
        "colab": {
          "base_uri": "https://localhost:8080/"
        },
        "id": "5Y24Izp5Y-5U",
        "outputId": "4e0c452d-99b1-4104-96e1-f42e1be7f144"
      },
      "execution_count": null,
      "outputs": [
        {
          "output_type": "stream",
          "name": "stdout",
          "text": [
            "5/5 [==============================] - 0s 3ms/step - loss: 0.5642 - accuracy: 0.7532\n"
          ]
        },
        {
          "output_type": "execute_result",
          "data": {
            "text/plain": [
              "[0.5642479658126831, 0.7532467246055603]"
            ]
          },
          "metadata": {},
          "execution_count": 59
        }
      ]
    },
    {
      "cell_type": "markdown",
      "source": [
        "#train and test accuracy are close to each others so we can say our model has ability to generalize successfully"
      ],
      "metadata": {
        "id": "UtrpXYsQZL1W"
      }
    },
    {
      "cell_type": "code",
      "source": [
        "y_test_pred=model.predict(X_test)"
      ],
      "metadata": {
        "colab": {
          "base_uri": "https://localhost:8080/"
        },
        "id": "iYcNp4YfZyDA",
        "outputId": "b4275280-2ccf-4bf9-e654-80c5f399f97d"
      },
      "execution_count": null,
      "outputs": [
        {
          "output_type": "stream",
          "name": "stdout",
          "text": [
            "5/5 [==============================] - 0s 3ms/step\n"
          ]
        }
      ]
    },
    {
      "cell_type": "code",
      "source": [
        "print(model.summary())"
      ],
      "metadata": {
        "colab": {
          "base_uri": "https://localhost:8080/"
        },
        "id": "0pO2UFDwaImn",
        "outputId": "9e01f67c-9835-45c6-91e1-b5a164f54d8e"
      },
      "execution_count": null,
      "outputs": [
        {
          "output_type": "stream",
          "name": "stdout",
          "text": [
            "Model: \"sequential_6\"\n",
            "_________________________________________________________________\n",
            " Layer (type)                Output Shape              Param #   \n",
            "=================================================================\n",
            " dense_1 (Dense)             (None, 12)                108       \n",
            "                                                                 \n",
            " dense_2 (Dense)             (None, 8)                 104       \n",
            "                                                                 \n",
            " dense_3 (Dense)             (None, 1)                 9         \n",
            "                                                                 \n",
            "=================================================================\n",
            "Total params: 221\n",
            "Trainable params: 221\n",
            "Non-trainable params: 0\n",
            "_________________________________________________________________\n",
            "None\n"
          ]
        }
      ]
    },
    {
      "cell_type": "code",
      "source": [
        "sample=np.array([[2,137,76,23,180,30,0.245,30]])\n",
        "y_sample=model.predict(sample)\n",
        "y_sample"
      ],
      "metadata": {
        "colab": {
          "base_uri": "https://localhost:8080/"
        },
        "id": "UM96LRpGacUe",
        "outputId": "b33707ee-4657-4be8-b9fc-9d7c084a31c7"
      },
      "execution_count": null,
      "outputs": [
        {
          "output_type": "stream",
          "name": "stdout",
          "text": [
            "1/1 [==============================] - 0s 26ms/step\n"
          ]
        },
        {
          "output_type": "execute_result",
          "data": {
            "text/plain": [
              "array([[0.2982946]], dtype=float32)"
            ]
          },
          "metadata": {},
          "execution_count": 71
        }
      ]
    }
  ]
}